{
 "cells": [
  {
   "cell_type": "code",
   "execution_count": 1,
   "metadata": {},
   "outputs": [],
   "source": [
    "library(nlme)\n",
    "library(MASS)\n",
    "library(multilevel)\n",
    "library(readr)"
   ]
  },
  {
   "cell_type": "code",
   "execution_count": 3,
   "metadata": {},
   "outputs": [
    {
     "name": "stderr",
     "output_type": "stream",
     "text": [
      "Parsed with column specification:\n",
      "cols(\n",
      "  .default = col_double(),\n",
      "  `p1 genero` = \u001b[31mcol_character()\u001b[39m,\n",
      "  `p2 dependencia` = \u001b[31mcol_character()\u001b[39m,\n",
      "  `p4 profesion` = \u001b[31mcol_character()\u001b[39m,\n",
      "  `p5 genero-director` = \u001b[31mcol_character()\u001b[39m,\n",
      "  `p6 genero-utp` = \u001b[31mcol_character()\u001b[39m,\n",
      "  `p7genero-inspector` = \u001b[31mcol_character()\u001b[39m,\n",
      "  `p22  requisito-centroestudiante` = \u001b[31mcol_character()\u001b[39m,\n",
      "  `p23 postulacion-centroestudiantes` = \u001b[31mcol_character()\u001b[39m,\n",
      "  `p24 eleccion-centroestudiante` = \u001b[31mcol_character()\u001b[39m,\n",
      "  `p26 relacion-director-estudiante` = \u001b[31mcol_character()\u001b[39m,\n",
      "  `p27 decisiones-proyectos` = \u001b[31mcol_character()\u001b[39m,\n",
      "  `p28 rol-centroestudiante` = \u001b[31mcol_character()\u001b[39m,\n",
      "  `p29 elaboracion-pi` = \u001b[31mcol_character()\u001b[39m,\n",
      "  `p30 rol-centropadres` = \u001b[31mcol_character()\u001b[39m,\n",
      "  `p31 obgetivo-pedagogico` = \u001b[31mcol_character()\u001b[39m,\n",
      "  `p32 rol-director-ciudadania` = \u001b[31mcol_character()\u001b[39m,\n",
      "  `p33 ciudadania-como` = \u001b[31mcol_character()\u001b[39m,\n",
      "  `p34 orientacion-director-ciudadania` = \u001b[31mcol_character()\u001b[39m,\n",
      "  `p35 director-conflicto-estudiantes` = \u001b[31mcol_character()\u001b[39m,\n",
      "  `p36 director-conflicto-apoderados` = \u001b[31mcol_character()\u001b[39m\n",
      ")\n",
      "\n",
      "See spec(...) for full column specifications.\n",
      "\n"
     ]
    }
   ],
   "source": [
    "datos <- read_csv('/home/taz/Documentos/git/Validacion/Pilotaje_tesis_datos_con_códigos.csv',skip=0, col_names=TRUE)"
   ]
  },
  {
   "cell_type": "markdown",
   "metadata": {},
   "source": [
    "# Fiabilidad\n",
    "\n",
    "### Se considera que existe una buena consistencia interna cuando el valor de alfa es superior a 0,7, según Formación continuada Diseño y validación de cuestionarios (paper facilitado) en la literatura cláscia es mayor a 0.3 pero hay debate respecto a esto."
   ]
  },
  {
   "cell_type": "markdown",
   "metadata": {},
   "source": [
    "# Liderazgo autoritario"
   ]
  },
  {
   "cell_type": "code",
   "execution_count": 4,
   "metadata": {},
   "outputs": [
    {
     "data": {
      "text/html": [
       "<dl>\n",
       "\t<dt>$Alpha</dt>\n",
       "\t\t<dd>0.757378587751416</dd>\n",
       "\t<dt>$N</dt>\n",
       "\t\t<dd>97</dd>\n",
       "</dl>\n"
      ],
      "text/latex": [
       "\\begin{description}\n",
       "\\item[\\$Alpha] 0.757378587751416\n",
       "\\item[\\$N] 97\n",
       "\\end{description}\n"
      ],
      "text/markdown": [
       "$Alpha\n",
       ":   0.757378587751416\n",
       "$N\n",
       ":   97\n",
       "\n",
       "\n"
      ],
      "text/plain": [
       "$Alpha\n",
       "[1] 0.7573786\n",
       "\n",
       "$N\n",
       "[1] 97\n"
      ]
     },
     "metadata": {},
     "output_type": "display_data"
    }
   ],
   "source": [
    "cronbach(datos[,8:17])"
   ]
  },
  {
   "cell_type": "markdown",
   "metadata": {},
   "source": [
    "# Formación minimalista"
   ]
  },
  {
   "cell_type": "code",
   "execution_count": 5,
   "metadata": {},
   "outputs": [
    {
     "data": {
      "text/html": [
       "<dl>\n",
       "\t<dt>$Alpha</dt>\n",
       "\t\t<dd>0.698466927959488</dd>\n",
       "\t<dt>$N</dt>\n",
       "\t\t<dd>99</dd>\n",
       "</dl>\n"
      ],
      "text/latex": [
       "\\begin{description}\n",
       "\\item[\\$Alpha] 0.698466927959488\n",
       "\\item[\\$N] 99\n",
       "\\end{description}\n"
      ],
      "text/markdown": [
       "$Alpha\n",
       ":   0.698466927959488\n",
       "$N\n",
       ":   99\n",
       "\n",
       "\n"
      ],
      "text/plain": [
       "$Alpha\n",
       "[1] 0.6984669\n",
       "\n",
       "$N\n",
       "[1] 99\n"
      ]
     },
     "metadata": {},
     "output_type": "display_data"
    }
   ],
   "source": [
    "cronbach(datos[,18:20])"
   ]
  },
  {
   "cell_type": "markdown",
   "metadata": {},
   "source": [
    "# Liderazgo democratico"
   ]
  },
  {
   "cell_type": "code",
   "execution_count": 6,
   "metadata": {},
   "outputs": [
    {
     "data": {
      "text/html": [
       "<dl>\n",
       "\t<dt>$Alpha</dt>\n",
       "\t\t<dd>0.923707851589252</dd>\n",
       "\t<dt>$N</dt>\n",
       "\t\t<dd>101</dd>\n",
       "</dl>\n"
      ],
      "text/latex": [
       "\\begin{description}\n",
       "\\item[\\$Alpha] 0.923707851589252\n",
       "\\item[\\$N] 101\n",
       "\\end{description}\n"
      ],
      "text/markdown": [
       "$Alpha\n",
       ":   0.923707851589252\n",
       "$N\n",
       ":   101\n",
       "\n",
       "\n"
      ],
      "text/plain": [
       "$Alpha\n",
       "[1] 0.9237079\n",
       "\n",
       "$N\n",
       "[1] 101\n"
      ]
     },
     "metadata": {},
     "output_type": "display_data"
    }
   ],
   "source": [
    "cronbach(datos[,37:42])"
   ]
  },
  {
   "cell_type": "code",
   "execution_count": 7,
   "metadata": {},
   "outputs": [
    {
     "data": {
      "text/html": [
       "&lt;NA&gt;"
      ],
      "text/latex": [
       "<NA>"
      ],
      "text/markdown": [
       "&lt;NA&gt;"
      ],
      "text/plain": [
       "[1] NA"
      ]
     },
     "metadata": {},
     "output_type": "display_data"
    }
   ],
   "source": [
    "mean(datos$`p10 director-manda`)"
   ]
  },
  {
   "cell_type": "code",
   "execution_count": 8,
   "metadata": {},
   "outputs": [
    {
     "ename": "ERROR",
     "evalue": "Error in FUN(newX[, i], ...): 'type' (character) de argumento no válido\n",
     "output_type": "error",
     "traceback": [
      "Error in FUN(newX[, i], ...): 'type' (character) de argumento no válido\nTraceback:\n",
      "1. cronbach(datos[, 25:26])",
      "2. var(apply(items, 1, sum))",
      "3. is.data.frame(x)",
      "4. apply(items, 1, sum)"
     ]
    }
   ],
   "source": [
    "cronbach(datos[,25:26])"
   ]
  },
  {
   "cell_type": "code",
   "execution_count": 10,
   "metadata": {},
   "outputs": [],
   "source": [
    "my_data <- datos[,8:20 ]"
   ]
  },
  {
   "cell_type": "code",
   "execution_count": 11,
   "metadata": {},
   "outputs": [
    {
     "data": {
      "text/html": [
       "<table>\n",
       "<caption>A tibble: 6 × 13</caption>\n",
       "<thead>\n",
       "\t<tr><th scope=col>p8 decision-autorizacion</th><th scope=col>p9 director-encargado-normas</th><th scope=col>p10 director-manda</th><th scope=col>p11 director-rol-controlador</th><th scope=col>p12 amenaza-inspectoria</th><th scope=col>p13 director-grita</th><th scope=col>p14 director-amenaza-perdida</th><th scope=col>p15 recomendaciones-estudiantes</th><th scope=col>p16 cosecuencias-paro</th><th scope=col>p17 separacion-funciones</th><th scope=col>p18 enseñanza-patriotismo</th><th scope=col>p19 formación-sala</th><th scope=col>p20 ponerse-pie</th></tr>\n",
       "\t<tr><th scope=col>&lt;dbl&gt;</th><th scope=col>&lt;dbl&gt;</th><th scope=col>&lt;dbl&gt;</th><th scope=col>&lt;dbl&gt;</th><th scope=col>&lt;dbl&gt;</th><th scope=col>&lt;dbl&gt;</th><th scope=col>&lt;dbl&gt;</th><th scope=col>&lt;dbl&gt;</th><th scope=col>&lt;dbl&gt;</th><th scope=col>&lt;dbl&gt;</th><th scope=col>&lt;dbl&gt;</th><th scope=col>&lt;dbl&gt;</th><th scope=col>&lt;dbl&gt;</th></tr>\n",
       "</thead>\n",
       "<tbody>\n",
       "\t<tr><td>3</td><td>2</td><td>3</td><td>2</td><td>2</td><td>3</td><td>2</td><td>3</td><td>2</td><td>2</td><td>4</td><td>4</td><td>4</td></tr>\n",
       "\t<tr><td>4</td><td>4</td><td>2</td><td>4</td><td>1</td><td>1</td><td>2</td><td>2</td><td>1</td><td>2</td><td>2</td><td>4</td><td>3</td></tr>\n",
       "\t<tr><td>3</td><td>2</td><td>3</td><td>3</td><td>3</td><td>2</td><td>1</td><td>1</td><td>1</td><td>1</td><td>2</td><td>3</td><td>2</td></tr>\n",
       "\t<tr><td>4</td><td>3</td><td>4</td><td>3</td><td>1</td><td>4</td><td>4</td><td>2</td><td>3</td><td>2</td><td>1</td><td>3</td><td>4</td></tr>\n",
       "\t<tr><td>2</td><td>2</td><td>2</td><td>2</td><td>3</td><td>2</td><td>2</td><td>2</td><td>2</td><td>2</td><td>2</td><td>3</td><td>3</td></tr>\n",
       "\t<tr><td>4</td><td>4</td><td>4</td><td>4</td><td>3</td><td>1</td><td>1</td><td>1</td><td>1</td><td>1</td><td>4</td><td>4</td><td>3</td></tr>\n",
       "</tbody>\n",
       "</table>\n"
      ],
      "text/latex": [
       "A tibble: 6 × 13\n",
       "\\begin{tabular}{lllllllllllll}\n",
       " p8 decision-autorizacion & p9 director-encargado-normas & p10 director-manda & p11 director-rol-controlador & p12 amenaza-inspectoria & p13 director-grita & p14 director-amenaza-perdida & p15 recomendaciones-estudiantes & p16 cosecuencias-paro & p17 separacion-funciones & p18 enseñanza-patriotismo & p19 formación-sala & p20 ponerse-pie\\\\\n",
       " <dbl> & <dbl> & <dbl> & <dbl> & <dbl> & <dbl> & <dbl> & <dbl> & <dbl> & <dbl> & <dbl> & <dbl> & <dbl>\\\\\n",
       "\\hline\n",
       "\t 3 & 2 & 3 & 2 & 2 & 3 & 2 & 3 & 2 & 2 & 4 & 4 & 4\\\\\n",
       "\t 4 & 4 & 2 & 4 & 1 & 1 & 2 & 2 & 1 & 2 & 2 & 4 & 3\\\\\n",
       "\t 3 & 2 & 3 & 3 & 3 & 2 & 1 & 1 & 1 & 1 & 2 & 3 & 2\\\\\n",
       "\t 4 & 3 & 4 & 3 & 1 & 4 & 4 & 2 & 3 & 2 & 1 & 3 & 4\\\\\n",
       "\t 2 & 2 & 2 & 2 & 3 & 2 & 2 & 2 & 2 & 2 & 2 & 3 & 3\\\\\n",
       "\t 4 & 4 & 4 & 4 & 3 & 1 & 1 & 1 & 1 & 1 & 4 & 4 & 3\\\\\n",
       "\\end{tabular}\n"
      ],
      "text/markdown": [
       "\n",
       "A tibble: 6 × 13\n",
       "\n",
       "| p8 decision-autorizacion &lt;dbl&gt; | p9 director-encargado-normas &lt;dbl&gt; | p10 director-manda &lt;dbl&gt; | p11 director-rol-controlador &lt;dbl&gt; | p12 amenaza-inspectoria &lt;dbl&gt; | p13 director-grita &lt;dbl&gt; | p14 director-amenaza-perdida &lt;dbl&gt; | p15 recomendaciones-estudiantes &lt;dbl&gt; | p16 cosecuencias-paro &lt;dbl&gt; | p17 separacion-funciones &lt;dbl&gt; | p18 enseñanza-patriotismo &lt;dbl&gt; | p19 formación-sala &lt;dbl&gt; | p20 ponerse-pie &lt;dbl&gt; |\n",
       "|---|---|---|---|---|---|---|---|---|---|---|---|---|\n",
       "| 3 | 2 | 3 | 2 | 2 | 3 | 2 | 3 | 2 | 2 | 4 | 4 | 4 |\n",
       "| 4 | 4 | 2 | 4 | 1 | 1 | 2 | 2 | 1 | 2 | 2 | 4 | 3 |\n",
       "| 3 | 2 | 3 | 3 | 3 | 2 | 1 | 1 | 1 | 1 | 2 | 3 | 2 |\n",
       "| 4 | 3 | 4 | 3 | 1 | 4 | 4 | 2 | 3 | 2 | 1 | 3 | 4 |\n",
       "| 2 | 2 | 2 | 2 | 3 | 2 | 2 | 2 | 2 | 2 | 2 | 3 | 3 |\n",
       "| 4 | 4 | 4 | 4 | 3 | 1 | 1 | 1 | 1 | 1 | 4 | 4 | 3 |\n",
       "\n"
      ],
      "text/plain": [
       "  p8 decision-autorizacion p9 director-encargado-normas p10 director-manda\n",
       "1 3                        2                            3                 \n",
       "2 4                        4                            2                 \n",
       "3 3                        2                            3                 \n",
       "4 4                        3                            4                 \n",
       "5 2                        2                            2                 \n",
       "6 4                        4                            4                 \n",
       "  p11 director-rol-controlador p12 amenaza-inspectoria p13 director-grita\n",
       "1 2                            2                       3                 \n",
       "2 4                            1                       1                 \n",
       "3 3                            3                       2                 \n",
       "4 3                            1                       4                 \n",
       "5 2                            3                       2                 \n",
       "6 4                            3                       1                 \n",
       "  p14 director-amenaza-perdida p15 recomendaciones-estudiantes\n",
       "1 2                            3                              \n",
       "2 2                            2                              \n",
       "3 1                            1                              \n",
       "4 4                            2                              \n",
       "5 2                            2                              \n",
       "6 1                            1                              \n",
       "  p16 cosecuencias-paro p17 separacion-funciones p18 enseñanza-patriotismo\n",
       "1 2                     2                        4                        \n",
       "2 1                     2                        2                        \n",
       "3 1                     1                        2                        \n",
       "4 3                     2                        1                        \n",
       "5 2                     2                        2                        \n",
       "6 1                     1                        4                        \n",
       "  p19 formación-sala p20 ponerse-pie\n",
       "1 4                  4              \n",
       "2 4                  3              \n",
       "3 3                  2              \n",
       "4 3                  4              \n",
       "5 3                  3              \n",
       "6 4                  3              "
      ]
     },
     "metadata": {},
     "output_type": "display_data"
    }
   ],
   "source": [
    "my_data[is.na(my_data)] <- 1\n",
    "head(my_data)"
   ]
  },
  {
   "cell_type": "code",
   "execution_count": 12,
   "metadata": {},
   "outputs": [
    {
     "data": {
      "text/html": [
       "<table>\n",
       "<caption>A matrix: 13 × 13 of type dbl</caption>\n",
       "<thead>\n",
       "\t<tr><th></th><th scope=col>p8 decision-autorizacion</th><th scope=col>p9 director-encargado-normas</th><th scope=col>p10 director-manda</th><th scope=col>p11 director-rol-controlador</th><th scope=col>p12 amenaza-inspectoria</th><th scope=col>p13 director-grita</th><th scope=col>p14 director-amenaza-perdida</th><th scope=col>p15 recomendaciones-estudiantes</th><th scope=col>p16 cosecuencias-paro</th><th scope=col>p17 separacion-funciones</th><th scope=col>p18 enseñanza-patriotismo</th><th scope=col>p19 formación-sala</th><th scope=col>p20 ponerse-pie</th></tr>\n",
       "</thead>\n",
       "<tbody>\n",
       "\t<tr><th scope=row>p8 decision-autorizacion</th><td>0.49782178</td><td> 0.135247525</td><td> 0.089801980</td><td> 0.09950495</td><td>0.03237624</td><td> 0.073960396</td><td> 0.087425743</td><td>0.046732673</td><td>0.09574257</td><td> 0.08673267</td><td> 0.058712871</td><td>0.24069307</td><td>0.21425743</td></tr>\n",
       "\t<tr><th scope=row>p9 director-encargado-normas</th><td>0.13524752</td><td> 0.773267327</td><td> 0.331386139</td><td> 0.37346535</td><td>0.09336634</td><td> 0.002277228</td><td>-0.051980198</td><td>0.042871287</td><td>0.05980198</td><td>-0.02712871</td><td> 0.169009901</td><td>0.15514851</td><td>0.19019802</td></tr>\n",
       "\t<tr><th scope=row>p10 director-manda</th><td>0.08980198</td><td> 0.331386139</td><td> 0.670891089</td><td> 0.29722772</td><td>0.18930693</td><td> 0.002178218</td><td>-0.008415842</td><td>0.089702970</td><td>0.21415842</td><td>-0.06029703</td><td> 0.060792079</td><td>0.05188119</td><td>0.15584158</td></tr>\n",
       "\t<tr><th scope=row>p11 director-rol-controlador</th><td>0.09950495</td><td> 0.373465347</td><td> 0.297227723</td><td> 0.77306931</td><td>0.11326733</td><td> 0.115445545</td><td> 0.123960396</td><td>0.124257426</td><td>0.13039604</td><td> 0.05425743</td><td>-0.018019802</td><td>0.04970297</td><td>0.20960396</td></tr>\n",
       "\t<tr><th scope=row>p12 amenaza-inspectoria</th><td>0.03237624</td><td> 0.093366337</td><td> 0.189306931</td><td> 0.11326733</td><td>0.78831683</td><td> 0.413861386</td><td> 0.390990099</td><td>0.373564356</td><td>0.34009901</td><td> 0.15356436</td><td> 0.040495050</td><td>0.23742574</td><td>0.06990099</td></tr>\n",
       "\t<tr><th scope=row>p13 director-grita</th><td>0.07396040</td><td> 0.002277228</td><td> 0.002178218</td><td> 0.11544554</td><td>0.41386139</td><td> 0.896435644</td><td> 0.678316832</td><td>0.495940594</td><td>0.36683168</td><td> 0.34594059</td><td>-0.065841584</td><td>0.17237624</td><td>0.16316832</td></tr>\n",
       "\t<tr><th scope=row>p14 director-amenaza-perdida</th><td>0.08742574</td><td>-0.051980198</td><td>-0.008415842</td><td> 0.12396040</td><td>0.39099010</td><td> 0.678316832</td><td> 0.940594059</td><td>0.586138614</td><td>0.56405941</td><td> 0.46613861</td><td>-0.019702970</td><td>0.17445545</td><td>0.07594059</td></tr>\n",
       "\t<tr><th scope=row>p15 recomendaciones-estudiantes</th><td>0.04673267</td><td> 0.042871287</td><td> 0.089702970</td><td> 0.12425743</td><td>0.37356436</td><td> 0.495940594</td><td> 0.586138614</td><td>0.790099010</td><td>0.41861386</td><td> 0.33009901</td><td> 0.003069307</td><td>0.13603960</td><td>0.20138614</td></tr>\n",
       "\t<tr><th scope=row>p16 cosecuencias-paro</th><td>0.09574257</td><td> 0.059801980</td><td> 0.214158416</td><td> 0.13039604</td><td>0.34009901</td><td> 0.366831683</td><td> 0.564059406</td><td>0.418613861</td><td>1.09940594</td><td> 0.32861386</td><td> 0.097029703</td><td>0.14544554</td><td>0.09059406</td></tr>\n",
       "\t<tr><th scope=row>p17 separacion-funciones</th><td>0.08673267</td><td>-0.027128713</td><td>-0.060297030</td><td> 0.05425743</td><td>0.15356436</td><td> 0.345940594</td><td> 0.466138614</td><td>0.330099010</td><td>0.32861386</td><td> 0.73009901</td><td> 0.163069307</td><td>0.17603960</td><td>0.08138614</td></tr>\n",
       "\t<tr><th scope=row>p18 enseñanza-patriotismo</th><td>0.05871287</td><td> 0.169009901</td><td> 0.060792079</td><td>-0.01801980</td><td>0.04049505</td><td>-0.065841584</td><td>-0.019702970</td><td>0.003069307</td><td>0.09702970</td><td> 0.16306931</td><td> 0.985148515</td><td>0.48722772</td><td>0.29297030</td></tr>\n",
       "\t<tr><th scope=row>p19 formación-sala</th><td>0.24069307</td><td> 0.155148515</td><td> 0.051881188</td><td> 0.04970297</td><td>0.23742574</td><td> 0.172376238</td><td> 0.174455446</td><td>0.136039604</td><td>0.14544554</td><td> 0.17603960</td><td> 0.487227723</td><td>1.13841584</td><td>0.64455446</td></tr>\n",
       "\t<tr><th scope=row>p20 ponerse-pie</th><td>0.21425743</td><td> 0.190198020</td><td> 0.155841584</td><td> 0.20960396</td><td>0.06990099</td><td> 0.163168317</td><td> 0.075940594</td><td>0.201386139</td><td>0.09059406</td><td> 0.08138614</td><td> 0.292970297</td><td>0.64455446</td><td>1.15940594</td></tr>\n",
       "</tbody>\n",
       "</table>\n"
      ],
      "text/latex": [
       "A matrix: 13 × 13 of type dbl\n",
       "\\begin{tabular}{r|lllllllllllll}\n",
       "  & p8 decision-autorizacion & p9 director-encargado-normas & p10 director-manda & p11 director-rol-controlador & p12 amenaza-inspectoria & p13 director-grita & p14 director-amenaza-perdida & p15 recomendaciones-estudiantes & p16 cosecuencias-paro & p17 separacion-funciones & p18 enseñanza-patriotismo & p19 formación-sala & p20 ponerse-pie\\\\\n",
       "\\hline\n",
       "\tp8 decision-autorizacion & 0.49782178 &  0.135247525 &  0.089801980 &  0.09950495 & 0.03237624 &  0.073960396 &  0.087425743 & 0.046732673 & 0.09574257 &  0.08673267 &  0.058712871 & 0.24069307 & 0.21425743\\\\\n",
       "\tp9 director-encargado-normas & 0.13524752 &  0.773267327 &  0.331386139 &  0.37346535 & 0.09336634 &  0.002277228 & -0.051980198 & 0.042871287 & 0.05980198 & -0.02712871 &  0.169009901 & 0.15514851 & 0.19019802\\\\\n",
       "\tp10 director-manda & 0.08980198 &  0.331386139 &  0.670891089 &  0.29722772 & 0.18930693 &  0.002178218 & -0.008415842 & 0.089702970 & 0.21415842 & -0.06029703 &  0.060792079 & 0.05188119 & 0.15584158\\\\\n",
       "\tp11 director-rol-controlador & 0.09950495 &  0.373465347 &  0.297227723 &  0.77306931 & 0.11326733 &  0.115445545 &  0.123960396 & 0.124257426 & 0.13039604 &  0.05425743 & -0.018019802 & 0.04970297 & 0.20960396\\\\\n",
       "\tp12 amenaza-inspectoria & 0.03237624 &  0.093366337 &  0.189306931 &  0.11326733 & 0.78831683 &  0.413861386 &  0.390990099 & 0.373564356 & 0.34009901 &  0.15356436 &  0.040495050 & 0.23742574 & 0.06990099\\\\\n",
       "\tp13 director-grita & 0.07396040 &  0.002277228 &  0.002178218 &  0.11544554 & 0.41386139 &  0.896435644 &  0.678316832 & 0.495940594 & 0.36683168 &  0.34594059 & -0.065841584 & 0.17237624 & 0.16316832\\\\\n",
       "\tp14 director-amenaza-perdida & 0.08742574 & -0.051980198 & -0.008415842 &  0.12396040 & 0.39099010 &  0.678316832 &  0.940594059 & 0.586138614 & 0.56405941 &  0.46613861 & -0.019702970 & 0.17445545 & 0.07594059\\\\\n",
       "\tp15 recomendaciones-estudiantes & 0.04673267 &  0.042871287 &  0.089702970 &  0.12425743 & 0.37356436 &  0.495940594 &  0.586138614 & 0.790099010 & 0.41861386 &  0.33009901 &  0.003069307 & 0.13603960 & 0.20138614\\\\\n",
       "\tp16 cosecuencias-paro & 0.09574257 &  0.059801980 &  0.214158416 &  0.13039604 & 0.34009901 &  0.366831683 &  0.564059406 & 0.418613861 & 1.09940594 &  0.32861386 &  0.097029703 & 0.14544554 & 0.09059406\\\\\n",
       "\tp17 separacion-funciones & 0.08673267 & -0.027128713 & -0.060297030 &  0.05425743 & 0.15356436 &  0.345940594 &  0.466138614 & 0.330099010 & 0.32861386 &  0.73009901 &  0.163069307 & 0.17603960 & 0.08138614\\\\\n",
       "\tp18 enseñanza-patriotismo & 0.05871287 &  0.169009901 &  0.060792079 & -0.01801980 & 0.04049505 & -0.065841584 & -0.019702970 & 0.003069307 & 0.09702970 &  0.16306931 &  0.985148515 & 0.48722772 & 0.29297030\\\\\n",
       "\tp19 formación-sala & 0.24069307 &  0.155148515 &  0.051881188 &  0.04970297 & 0.23742574 &  0.172376238 &  0.174455446 & 0.136039604 & 0.14544554 &  0.17603960 &  0.487227723 & 1.13841584 & 0.64455446\\\\\n",
       "\tp20 ponerse-pie & 0.21425743 &  0.190198020 &  0.155841584 &  0.20960396 & 0.06990099 &  0.163168317 &  0.075940594 & 0.201386139 & 0.09059406 &  0.08138614 &  0.292970297 & 0.64455446 & 1.15940594\\\\\n",
       "\\end{tabular}\n"
      ],
      "text/markdown": [
       "\n",
       "A matrix: 13 × 13 of type dbl\n",
       "\n",
       "| <!--/--> | p8 decision-autorizacion | p9 director-encargado-normas | p10 director-manda | p11 director-rol-controlador | p12 amenaza-inspectoria | p13 director-grita | p14 director-amenaza-perdida | p15 recomendaciones-estudiantes | p16 cosecuencias-paro | p17 separacion-funciones | p18 enseñanza-patriotismo | p19 formación-sala | p20 ponerse-pie |\n",
       "|---|---|---|---|---|---|---|---|---|---|---|---|---|---|\n",
       "| p8 decision-autorizacion | 0.49782178 |  0.135247525 |  0.089801980 |  0.09950495 | 0.03237624 |  0.073960396 |  0.087425743 | 0.046732673 | 0.09574257 |  0.08673267 |  0.058712871 | 0.24069307 | 0.21425743 |\n",
       "| p9 director-encargado-normas | 0.13524752 |  0.773267327 |  0.331386139 |  0.37346535 | 0.09336634 |  0.002277228 | -0.051980198 | 0.042871287 | 0.05980198 | -0.02712871 |  0.169009901 | 0.15514851 | 0.19019802 |\n",
       "| p10 director-manda | 0.08980198 |  0.331386139 |  0.670891089 |  0.29722772 | 0.18930693 |  0.002178218 | -0.008415842 | 0.089702970 | 0.21415842 | -0.06029703 |  0.060792079 | 0.05188119 | 0.15584158 |\n",
       "| p11 director-rol-controlador | 0.09950495 |  0.373465347 |  0.297227723 |  0.77306931 | 0.11326733 |  0.115445545 |  0.123960396 | 0.124257426 | 0.13039604 |  0.05425743 | -0.018019802 | 0.04970297 | 0.20960396 |\n",
       "| p12 amenaza-inspectoria | 0.03237624 |  0.093366337 |  0.189306931 |  0.11326733 | 0.78831683 |  0.413861386 |  0.390990099 | 0.373564356 | 0.34009901 |  0.15356436 |  0.040495050 | 0.23742574 | 0.06990099 |\n",
       "| p13 director-grita | 0.07396040 |  0.002277228 |  0.002178218 |  0.11544554 | 0.41386139 |  0.896435644 |  0.678316832 | 0.495940594 | 0.36683168 |  0.34594059 | -0.065841584 | 0.17237624 | 0.16316832 |\n",
       "| p14 director-amenaza-perdida | 0.08742574 | -0.051980198 | -0.008415842 |  0.12396040 | 0.39099010 |  0.678316832 |  0.940594059 | 0.586138614 | 0.56405941 |  0.46613861 | -0.019702970 | 0.17445545 | 0.07594059 |\n",
       "| p15 recomendaciones-estudiantes | 0.04673267 |  0.042871287 |  0.089702970 |  0.12425743 | 0.37356436 |  0.495940594 |  0.586138614 | 0.790099010 | 0.41861386 |  0.33009901 |  0.003069307 | 0.13603960 | 0.20138614 |\n",
       "| p16 cosecuencias-paro | 0.09574257 |  0.059801980 |  0.214158416 |  0.13039604 | 0.34009901 |  0.366831683 |  0.564059406 | 0.418613861 | 1.09940594 |  0.32861386 |  0.097029703 | 0.14544554 | 0.09059406 |\n",
       "| p17 separacion-funciones | 0.08673267 | -0.027128713 | -0.060297030 |  0.05425743 | 0.15356436 |  0.345940594 |  0.466138614 | 0.330099010 | 0.32861386 |  0.73009901 |  0.163069307 | 0.17603960 | 0.08138614 |\n",
       "| p18 enseñanza-patriotismo | 0.05871287 |  0.169009901 |  0.060792079 | -0.01801980 | 0.04049505 | -0.065841584 | -0.019702970 | 0.003069307 | 0.09702970 |  0.16306931 |  0.985148515 | 0.48722772 | 0.29297030 |\n",
       "| p19 formación-sala | 0.24069307 |  0.155148515 |  0.051881188 |  0.04970297 | 0.23742574 |  0.172376238 |  0.174455446 | 0.136039604 | 0.14544554 |  0.17603960 |  0.487227723 | 1.13841584 | 0.64455446 |\n",
       "| p20 ponerse-pie | 0.21425743 |  0.190198020 |  0.155841584 |  0.20960396 | 0.06990099 |  0.163168317 |  0.075940594 | 0.201386139 | 0.09059406 |  0.08138614 |  0.292970297 | 0.64455446 | 1.15940594 |\n",
       "\n"
      ],
      "text/plain": [
       "                                p8 decision-autorizacion\n",
       "p8 decision-autorizacion        0.49782178              \n",
       "p9 director-encargado-normas    0.13524752              \n",
       "p10 director-manda              0.08980198              \n",
       "p11 director-rol-controlador    0.09950495              \n",
       "p12 amenaza-inspectoria         0.03237624              \n",
       "p13 director-grita              0.07396040              \n",
       "p14 director-amenaza-perdida    0.08742574              \n",
       "p15 recomendaciones-estudiantes 0.04673267              \n",
       "p16 cosecuencias-paro           0.09574257              \n",
       "p17 separacion-funciones        0.08673267              \n",
       "p18 enseñanza-patriotismo       0.05871287              \n",
       "p19 formación-sala              0.24069307              \n",
       "p20 ponerse-pie                 0.21425743              \n",
       "                                p9 director-encargado-normas p10 director-manda\n",
       "p8 decision-autorizacion         0.135247525                  0.089801980      \n",
       "p9 director-encargado-normas     0.773267327                  0.331386139      \n",
       "p10 director-manda               0.331386139                  0.670891089      \n",
       "p11 director-rol-controlador     0.373465347                  0.297227723      \n",
       "p12 amenaza-inspectoria          0.093366337                  0.189306931      \n",
       "p13 director-grita               0.002277228                  0.002178218      \n",
       "p14 director-amenaza-perdida    -0.051980198                 -0.008415842      \n",
       "p15 recomendaciones-estudiantes  0.042871287                  0.089702970      \n",
       "p16 cosecuencias-paro            0.059801980                  0.214158416      \n",
       "p17 separacion-funciones        -0.027128713                 -0.060297030      \n",
       "p18 enseñanza-patriotismo        0.169009901                  0.060792079      \n",
       "p19 formación-sala               0.155148515                  0.051881188      \n",
       "p20 ponerse-pie                  0.190198020                  0.155841584      \n",
       "                                p11 director-rol-controlador\n",
       "p8 decision-autorizacion         0.09950495                 \n",
       "p9 director-encargado-normas     0.37346535                 \n",
       "p10 director-manda               0.29722772                 \n",
       "p11 director-rol-controlador     0.77306931                 \n",
       "p12 amenaza-inspectoria          0.11326733                 \n",
       "p13 director-grita               0.11544554                 \n",
       "p14 director-amenaza-perdida     0.12396040                 \n",
       "p15 recomendaciones-estudiantes  0.12425743                 \n",
       "p16 cosecuencias-paro            0.13039604                 \n",
       "p17 separacion-funciones         0.05425743                 \n",
       "p18 enseñanza-patriotismo       -0.01801980                 \n",
       "p19 formación-sala               0.04970297                 \n",
       "p20 ponerse-pie                  0.20960396                 \n",
       "                                p12 amenaza-inspectoria p13 director-grita\n",
       "p8 decision-autorizacion        0.03237624               0.073960396      \n",
       "p9 director-encargado-normas    0.09336634               0.002277228      \n",
       "p10 director-manda              0.18930693               0.002178218      \n",
       "p11 director-rol-controlador    0.11326733               0.115445545      \n",
       "p12 amenaza-inspectoria         0.78831683               0.413861386      \n",
       "p13 director-grita              0.41386139               0.896435644      \n",
       "p14 director-amenaza-perdida    0.39099010               0.678316832      \n",
       "p15 recomendaciones-estudiantes 0.37356436               0.495940594      \n",
       "p16 cosecuencias-paro           0.34009901               0.366831683      \n",
       "p17 separacion-funciones        0.15356436               0.345940594      \n",
       "p18 enseñanza-patriotismo       0.04049505              -0.065841584      \n",
       "p19 formación-sala              0.23742574               0.172376238      \n",
       "p20 ponerse-pie                 0.06990099               0.163168317      \n",
       "                                p14 director-amenaza-perdida\n",
       "p8 decision-autorizacion         0.087425743                \n",
       "p9 director-encargado-normas    -0.051980198                \n",
       "p10 director-manda              -0.008415842                \n",
       "p11 director-rol-controlador     0.123960396                \n",
       "p12 amenaza-inspectoria          0.390990099                \n",
       "p13 director-grita               0.678316832                \n",
       "p14 director-amenaza-perdida     0.940594059                \n",
       "p15 recomendaciones-estudiantes  0.586138614                \n",
       "p16 cosecuencias-paro            0.564059406                \n",
       "p17 separacion-funciones         0.466138614                \n",
       "p18 enseñanza-patriotismo       -0.019702970                \n",
       "p19 formación-sala               0.174455446                \n",
       "p20 ponerse-pie                  0.075940594                \n",
       "                                p15 recomendaciones-estudiantes\n",
       "p8 decision-autorizacion        0.046732673                    \n",
       "p9 director-encargado-normas    0.042871287                    \n",
       "p10 director-manda              0.089702970                    \n",
       "p11 director-rol-controlador    0.124257426                    \n",
       "p12 amenaza-inspectoria         0.373564356                    \n",
       "p13 director-grita              0.495940594                    \n",
       "p14 director-amenaza-perdida    0.586138614                    \n",
       "p15 recomendaciones-estudiantes 0.790099010                    \n",
       "p16 cosecuencias-paro           0.418613861                    \n",
       "p17 separacion-funciones        0.330099010                    \n",
       "p18 enseñanza-patriotismo       0.003069307                    \n",
       "p19 formación-sala              0.136039604                    \n",
       "p20 ponerse-pie                 0.201386139                    \n",
       "                                p16 cosecuencias-paro p17 separacion-funciones\n",
       "p8 decision-autorizacion        0.09574257             0.08673267             \n",
       "p9 director-encargado-normas    0.05980198            -0.02712871             \n",
       "p10 director-manda              0.21415842            -0.06029703             \n",
       "p11 director-rol-controlador    0.13039604             0.05425743             \n",
       "p12 amenaza-inspectoria         0.34009901             0.15356436             \n",
       "p13 director-grita              0.36683168             0.34594059             \n",
       "p14 director-amenaza-perdida    0.56405941             0.46613861             \n",
       "p15 recomendaciones-estudiantes 0.41861386             0.33009901             \n",
       "p16 cosecuencias-paro           1.09940594             0.32861386             \n",
       "p17 separacion-funciones        0.32861386             0.73009901             \n",
       "p18 enseñanza-patriotismo       0.09702970             0.16306931             \n",
       "p19 formación-sala              0.14544554             0.17603960             \n",
       "p20 ponerse-pie                 0.09059406             0.08138614             \n",
       "                                p18 enseñanza-patriotismo p19 formación-sala\n",
       "p8 decision-autorizacion         0.058712871              0.24069307        \n",
       "p9 director-encargado-normas     0.169009901              0.15514851        \n",
       "p10 director-manda               0.060792079              0.05188119        \n",
       "p11 director-rol-controlador    -0.018019802              0.04970297        \n",
       "p12 amenaza-inspectoria          0.040495050              0.23742574        \n",
       "p13 director-grita              -0.065841584              0.17237624        \n",
       "p14 director-amenaza-perdida    -0.019702970              0.17445545        \n",
       "p15 recomendaciones-estudiantes  0.003069307              0.13603960        \n",
       "p16 cosecuencias-paro            0.097029703              0.14544554        \n",
       "p17 separacion-funciones         0.163069307              0.17603960        \n",
       "p18 enseñanza-patriotismo        0.985148515              0.48722772        \n",
       "p19 formación-sala               0.487227723              1.13841584        \n",
       "p20 ponerse-pie                  0.292970297              0.64455446        \n",
       "                                p20 ponerse-pie\n",
       "p8 decision-autorizacion        0.21425743     \n",
       "p9 director-encargado-normas    0.19019802     \n",
       "p10 director-manda              0.15584158     \n",
       "p11 director-rol-controlador    0.20960396     \n",
       "p12 amenaza-inspectoria         0.06990099     \n",
       "p13 director-grita              0.16316832     \n",
       "p14 director-amenaza-perdida    0.07594059     \n",
       "p15 recomendaciones-estudiantes 0.20138614     \n",
       "p16 cosecuencias-paro           0.09059406     \n",
       "p17 separacion-funciones        0.08138614     \n",
       "p18 enseñanza-patriotismo       0.29297030     \n",
       "p19 formación-sala              0.64455446     \n",
       "p20 ponerse-pie                 1.15940594     "
      ]
     },
     "metadata": {},
     "output_type": "display_data"
    }
   ],
   "source": [
    "cov(my_data)"
   ]
  },
  {
   "cell_type": "code",
   "execution_count": 13,
   "metadata": {},
   "outputs": [],
   "source": [
    "library(psych)\n",
    "library(abind)\n",
    "library(foreach)\n",
    "library(multicon)"
   ]
  },
  {
   "cell_type": "code",
   "execution_count": 14,
   "metadata": {},
   "outputs": [
    {
     "data": {
      "text/html": [
       "\n",
       "<table width=\"100%\" summary=\"page for MTMM {multicon}\"><tr><td>MTMM {multicon}</td><td style=\"text-align: right;\">R Documentation</td></tr></table>\n",
       "\n",
       "<h2>\n",
       "Multi Trait Multi Method Matrix\n",
       "</h2>\n",
       "\n",
       "<h3>Description</h3>\n",
       "\n",
       "<p>Returns the summary results from a multi-trait multi-method correlation matrix including the average correlations for Same Trait-Different Method, Same Method-Different Trait, and  Different Method-Different Trait.\n",
       "</p>\n",
       "\n",
       "\n",
       "<h3>Usage</h3>\n",
       "\n",
       "<pre>\n",
       "MTMM(x, traits, methods)\n",
       "</pre>\n",
       "\n",
       "\n",
       "<h3>Arguments</h3>\n",
       "\n",
       "<table summary=\"R argblock\">\n",
       "<tr valign=\"top\"><td><code>x</code></td>\n",
       "<td>\n",
       "\n",
       "<p>A data.frame organized such that each column represents the ratings for each Trait-Method combination. The columns must be ordered in sets such that the first set is the first trait rated by each method, followed by the second trait rated by each method (in the same order), and so on. \n",
       "</p>\n",
       "</td></tr>\n",
       "<tr valign=\"top\"><td><code>traits</code></td>\n",
       "<td>\n",
       "\n",
       "<p>An integer indicating the total number of different traits rated.\n",
       "</p>\n",
       "</td></tr>\n",
       "<tr valign=\"top\"><td><code>methods</code></td>\n",
       "<td>\n",
       "\n",
       "<p>An integer indicating the total number of methods used.\n",
       "</p>\n",
       "</td></tr>\n",
       "</table>\n",
       "\n",
       "\n",
       "<h3>Details</h3>\n",
       "\n",
       "<p>Multi-trait Multi-method matrices are often used examine the validity of the construct(s) under investigation. That is, if different methods agree about a target's standing on a trait, it is more likely that the trait itself is valid. However, such agreement must be compared with agreement about different targets using the same method (method effects), which must in turn be compared with agreement about different targets using different methods (i.e., the general similarity of targets). This function returns all three such values: The average agreement about targets on the given traits using different methods, the average agreement about different targets using the same methods (method effects), and the average agreement about different targets using different methods (baseline agreement). \n",
       "</p>\n",
       "\n",
       "\n",
       "<h3>Value</h3>\n",
       "\n",
       "\n",
       "\n",
       "<table summary=\"R valueblock\">\n",
       "<tr valign=\"top\"><td><code>SameTrait </code></td>\n",
       "<td>\n",
       "<p>The average correlation for the Same Traits rated by Different Methods</p>\n",
       "</td></tr>\n",
       "<tr valign=\"top\"><td><code>SameMethod </code></td>\n",
       "<td>\n",
       "<p>The average correlation for the Same Methods used to rate the Different Traits</p>\n",
       "</td></tr>\n",
       "<tr valign=\"top\"><td><code>DiffDiff</code></td>\n",
       "<td>\n",
       "<p>The average correlation for the Different Traits rated by Different Methods</p>\n",
       "</td></tr>\n",
       "</table>\n",
       "\n",
       "\n",
       "\n",
       "<h3>Author(s)</h3>\n",
       "\n",
       "<p>Ryne A. Sherman\n",
       "</p>\n",
       "\n",
       "\n",
       "<h3>See Also</h3>\n",
       "\n",
       "<p><code>inner.outer</code>\n",
       "</p>\n",
       "\n",
       "\n",
       "<h3>Examples</h3>\n",
       "\n",
       "<pre>\n",
       "\t# We can generate some random data by first creating a population correlation matrix\n",
       "sig &lt;- matrix(c(1.00,.4,.6,.05,.1,-.05,.4,1.00,.5,.08,\n",
       "\t-.02,.03,.6,.5,1.00,.09,.1,-.07,.05,.08,.09,1.00,.6,.7,.1,-.02,.1,.6,\n",
       "\t1.00,.5,-.05,.03,-.07,.7,.5,1.00), ncol=6, byrow=TRUE)\n",
       "sig\n",
       "library(mvtnorm)\n",
       "\t# Now create random data based on this population matrix\n",
       "d &lt;- rmvnorm(100, sigma=sig)\n",
       "\t#Now use MTMM on this data.frame indicating that there are 2 traits and 3 methods. \n",
       "MTMM(d, 2, 3)\n",
       "</pre>\n",
       "\n",
       "<hr /><div style=\"text-align: center;\">[Package <em>multicon</em> version 1.6 ]</div>"
      ],
      "text/latex": [
       "\\inputencoding{utf8}\n",
       "\\HeaderA{MTMM}{Multi Trait Multi Method Matrix}{MTMM}\n",
       "\\keyword{multi trait multi method matrix}{MTMM}\n",
       "%\n",
       "\\begin{Description}\\relax\n",
       "Returns the summary results from a multi-trait multi-method correlation matrix including the average correlations for Same Trait-Different Method, Same Method-Different Trait, and  Different Method-Different Trait.\n",
       "\\end{Description}\n",
       "%\n",
       "\\begin{Usage}\n",
       "\\begin{verbatim}\n",
       "MTMM(x, traits, methods)\n",
       "\\end{verbatim}\n",
       "\\end{Usage}\n",
       "%\n",
       "\\begin{Arguments}\n",
       "\\begin{ldescription}\n",
       "\\item[\\code{x}] \n",
       "A data.frame organized such that each column represents the ratings for each Trait-Method combination. The columns must be ordered in sets such that the first set is the first trait rated by each method, followed by the second trait rated by each method (in the same order), and so on. \n",
       "\n",
       "\\item[\\code{traits}] \n",
       "An integer indicating the total number of different traits rated.\n",
       "\n",
       "\\item[\\code{methods}] \n",
       "An integer indicating the total number of methods used.\n",
       "\n",
       "\\end{ldescription}\n",
       "\\end{Arguments}\n",
       "%\n",
       "\\begin{Details}\\relax\n",
       "Multi-trait Multi-method matrices are often used examine the validity of the construct(s) under investigation. That is, if different methods agree about a target's standing on a trait, it is more likely that the trait itself is valid. However, such agreement must be compared with agreement about different targets using the same method (method effects), which must in turn be compared with agreement about different targets using different methods (i.e., the general similarity of targets). This function returns all three such values: The average agreement about targets on the given traits using different methods, the average agreement about different targets using the same methods (method effects), and the average agreement about different targets using different methods (baseline agreement). \n",
       "\\end{Details}\n",
       "%\n",
       "\\begin{Value}\n",
       "\n",
       "\n",
       "\\begin{ldescription}\n",
       "\\item[\\code{SameTrait }] The average correlation for the Same Traits rated by Different Methods\n",
       "\\item[\\code{SameMethod }] The average correlation for the Same Methods used to rate the Different Traits\n",
       "\\item[\\code{DiffDiff}] The average correlation for the Different Traits rated by Different Methods\n",
       "\\end{ldescription}\n",
       "\n",
       "\\end{Value}\n",
       "%\n",
       "\\begin{Author}\\relax\n",
       "Ryne A. Sherman\n",
       "\\end{Author}\n",
       "%\n",
       "\\begin{SeeAlso}\\relax\n",
       "\\code{\\LinkA{inner.outer}{inner.outer}}\n",
       "\\end{SeeAlso}\n",
       "%\n",
       "\\begin{Examples}\n",
       "\\begin{ExampleCode}\n",
       "\t# We can generate some random data by first creating a population correlation matrix\n",
       "sig <- matrix(c(1.00,.4,.6,.05,.1,-.05,.4,1.00,.5,.08,\n",
       "\t-.02,.03,.6,.5,1.00,.09,.1,-.07,.05,.08,.09,1.00,.6,.7,.1,-.02,.1,.6,\n",
       "\t1.00,.5,-.05,.03,-.07,.7,.5,1.00), ncol=6, byrow=TRUE)\n",
       "sig\n",
       "library(mvtnorm)\n",
       "\t# Now create random data based on this population matrix\n",
       "d <- rmvnorm(100, sigma=sig)\n",
       "\t#Now use MTMM on this data.frame indicating that there are 2 traits and 3 methods. \n",
       "MTMM(d, 2, 3)\n",
       "\\end{ExampleCode}\n",
       "\\end{Examples}"
      ],
      "text/plain": [
       "MTMM                 package:multicon                  R Documentation\n",
       "\n",
       "_\bM_\bu_\bl_\bt_\bi _\bT_\br_\ba_\bi_\bt _\bM_\bu_\bl_\bt_\bi _\bM_\be_\bt_\bh_\bo_\bd _\bM_\ba_\bt_\br_\bi_\bx\n",
       "\n",
       "_\bD_\be_\bs_\bc_\br_\bi_\bp_\bt_\bi_\bo_\bn:\n",
       "\n",
       "     Returns the summary results from a multi-trait multi-method\n",
       "     correlation matrix including the average correlations for Same\n",
       "     Trait-Different Method, Same Method-Different Trait, and Different\n",
       "     Method-Different Trait.\n",
       "\n",
       "_\bU_\bs_\ba_\bg_\be:\n",
       "\n",
       "     MTMM(x, traits, methods)\n",
       "     \n",
       "_\bA_\br_\bg_\bu_\bm_\be_\bn_\bt_\bs:\n",
       "\n",
       "       x: A data.frame organized such that each column represents the\n",
       "          ratings for each Trait-Method combination. The columns must\n",
       "          be ordered in sets such that the first set is the first trait\n",
       "          rated by each method, followed by the second trait rated by\n",
       "          each method (in the same order), and so on.\n",
       "\n",
       "  traits: An integer indicating the total number of different traits\n",
       "          rated.\n",
       "\n",
       " methods: An integer indicating the total number of methods used.\n",
       "\n",
       "_\bD_\be_\bt_\ba_\bi_\bl_\bs:\n",
       "\n",
       "     Multi-trait Multi-method matrices are often used examine the\n",
       "     validity of the construct(s) under investigation. That is, if\n",
       "     different methods agree about a target's standing on a trait, it\n",
       "     is more likely that the trait itself is valid. However, such\n",
       "     agreement must be compared with agreement about different targets\n",
       "     using the same method (method effects), which must in turn be\n",
       "     compared with agreement about different targets using different\n",
       "     methods (i.e., the general similarity of targets). This function\n",
       "     returns all three such values: The average agreement about targets\n",
       "     on the given traits using different methods, the average agreement\n",
       "     about different targets using the same methods (method effects),\n",
       "     and the average agreement about different targets using different\n",
       "     methods (baseline agreement).\n",
       "\n",
       "_\bV_\ba_\bl_\bu_\be:\n",
       "\n",
       "SameTrait : The average correlation for the Same Traits rated by\n",
       "          Different Methods\n",
       "\n",
       "SameMethod : The average correlation for the Same Methods used to rate\n",
       "          the Different Traits\n",
       "\n",
       "DiffDiff: The average correlation for the Different Traits rated by\n",
       "          Different Methods\n",
       "\n",
       "_\bA_\bu_\bt_\bh_\bo_\br(_\bs):\n",
       "\n",
       "     Ryne A. Sherman\n",
       "\n",
       "_\bS_\be_\be _\bA_\bl_\bs_\bo:\n",
       "\n",
       "     ‘inner.outer’\n",
       "\n",
       "_\bE_\bx_\ba_\bm_\bp_\bl_\be_\bs:\n",
       "\n",
       "             # We can generate some random data by first creating a population correlation matrix\n",
       "     sig <- matrix(c(1.00,.4,.6,.05,.1,-.05,.4,1.00,.5,.08,\n",
       "             -.02,.03,.6,.5,1.00,.09,.1,-.07,.05,.08,.09,1.00,.6,.7,.1,-.02,.1,.6,\n",
       "             1.00,.5,-.05,.03,-.07,.7,.5,1.00), ncol=6, byrow=TRUE)\n",
       "     sig\n",
       "     library(mvtnorm)\n",
       "             # Now create random data based on this population matrix\n",
       "     d <- rmvnorm(100, sigma=sig)\n",
       "             #Now use MTMM on this data.frame indicating that there are 2 traits and 3 methods. \n",
       "     MTMM(d, 2, 3)\n",
       "     "
      ]
     },
     "metadata": {},
     "output_type": "display_data"
    }
   ],
   "source": [
    "help(MTMM)"
   ]
  },
  {
   "cell_type": "code",
   "execution_count": null,
   "metadata": {},
   "outputs": [],
   "source": []
  },
  {
   "cell_type": "markdown",
   "metadata": {},
   "source": [
    "# Validez\n",
    "\n",
    "### Validez de constructo. Evalúa el grado en que el instrumento refleja la teoría del fenómeno o del concepto que mide. La validez de construcción garantiza que las medidas que resultan de las respuestas del cuestionario pueden ser consideradas y utilizadas como medición del fenómeno que queremos medir.\n",
    "### Puede ser calculada por diversos métodos, pero los más frecuentes son el análisis factorial y la matrizmultirrasgo-multimétodo."
   ]
  },
  {
   "cell_type": "code",
   "execution_count": 15,
   "metadata": {},
   "outputs": [
    {
     "data": {
      "text/html": [
       "<table>\n",
       "<caption>A matrix: 1 × 3 of type dbl</caption>\n",
       "<thead>\n",
       "\t<tr><th></th><th scope=col>SameTrait</th><th scope=col>SameMethod</th><th scope=col>DiffDiff</th></tr>\n",
       "</thead>\n",
       "<tbody>\n",
       "\t<tr><th scope=row>Results</th><td>NaN</td><td>NaN</td><td>0.154776</td></tr>\n",
       "</tbody>\n",
       "</table>\n"
      ],
      "text/latex": [
       "A matrix: 1 × 3 of type dbl\n",
       "\\begin{tabular}{r|lll}\n",
       "  & SameTrait & SameMethod & DiffDiff\\\\\n",
       "\\hline\n",
       "\tResults & NaN & NaN & 0.154776\\\\\n",
       "\\end{tabular}\n"
      ],
      "text/markdown": [
       "\n",
       "A matrix: 1 × 3 of type dbl\n",
       "\n",
       "| <!--/--> | SameTrait | SameMethod | DiffDiff |\n",
       "|---|---|---|---|\n",
       "| Results | NaN | NaN | 0.154776 |\n",
       "\n"
      ],
      "text/plain": [
       "        SameTrait SameMethod DiffDiff\n",
       "Results NaN       NaN        0.154776"
      ]
     },
     "metadata": {},
     "output_type": "display_data"
    }
   ],
   "source": [
    "MTMM(my_data, 1 , 1)"
   ]
  },
  {
   "cell_type": "code",
   "execution_count": 16,
   "metadata": {},
   "outputs": [],
   "source": [
    "help(inner.outer)"
   ]
  },
  {
   "cell_type": "code",
   "execution_count": null,
   "metadata": {},
   "outputs": [],
   "source": []
  }
 ],
 "metadata": {
  "kernelspec": {
   "display_name": "R",
   "language": "R",
   "name": "ir"
  },
  "language_info": {
   "codemirror_mode": "r",
   "file_extension": ".r",
   "mimetype": "text/x-r-source",
   "name": "R",
   "pygments_lexer": "r",
   "version": "3.5.2"
  }
 },
 "nbformat": 4,
 "nbformat_minor": 4
}
