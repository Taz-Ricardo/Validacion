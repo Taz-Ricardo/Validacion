{
 "cells": [
  {
   "cell_type": "code",
   "execution_count": 24,
   "metadata": {},
   "outputs": [],
   "source": [
    "library(nlme)\n",
    "library(MASS)\n",
    "library(multilevel)\n",
    "library(readr)"
   ]
  },
  {
   "cell_type": "code",
   "execution_count": 25,
   "metadata": {},
   "outputs": [
    {
     "name": "stderr",
     "output_type": "stream",
     "text": [
      "Parsed with column specification:\n",
      "cols(\n",
      "  .default = col_double(),\n",
      "  `p1 genero` = \u001b[31mcol_character()\u001b[39m,\n",
      "  `p2 dependencia` = \u001b[31mcol_character()\u001b[39m,\n",
      "  `p4 profesion` = \u001b[31mcol_character()\u001b[39m,\n",
      "  `p5 genero-director` = \u001b[31mcol_character()\u001b[39m,\n",
      "  `p6 genero-utp` = \u001b[31mcol_character()\u001b[39m,\n",
      "  `p7genero-inspector` = \u001b[31mcol_character()\u001b[39m,\n",
      "  `p22  requisito-centroestudiante` = \u001b[31mcol_character()\u001b[39m,\n",
      "  `p23 postulacion-centroestudiantes` = \u001b[31mcol_character()\u001b[39m,\n",
      "  `p24 eleccion-centroestudiante` = \u001b[31mcol_character()\u001b[39m,\n",
      "  `p26 relacion-director-estudiante` = \u001b[31mcol_character()\u001b[39m,\n",
      "  `p27 decisiones-proyectos` = \u001b[31mcol_character()\u001b[39m,\n",
      "  `p28 rol-centroestudiante` = \u001b[31mcol_character()\u001b[39m,\n",
      "  `p29 elaboracion-pi` = \u001b[31mcol_character()\u001b[39m,\n",
      "  `p30 rol-centropadres` = \u001b[31mcol_character()\u001b[39m,\n",
      "  `p31 obgetivo-pedagogico` = \u001b[31mcol_character()\u001b[39m,\n",
      "  `p32 rol-director-ciudadania` = \u001b[31mcol_character()\u001b[39m,\n",
      "  `p33 ciudadania-como` = \u001b[31mcol_character()\u001b[39m,\n",
      "  `p34 orientacion-director-ciudadania` = \u001b[31mcol_character()\u001b[39m,\n",
      "  `p35 director-conflicto-estudiantes` = \u001b[31mcol_character()\u001b[39m,\n",
      "  `p36 director-conflicto-apoderados` = \u001b[31mcol_character()\u001b[39m\n",
      ")\n",
      "\n",
      "See spec(...) for full column specifications.\n",
      "\n"
     ]
    }
   ],
   "source": [
    "datos <- read_csv('/home/taz/Documentos/git/Validación/Pilotaje_tesis_datos_con_códigos.csv',skip=0, col_names=TRUE)"
   ]
  },
  {
   "cell_type": "markdown",
   "metadata": {},
   "source": [
    "# Fiabilidad\n",
    "\n",
    "### Se considera que existe una buena consistencia interna cuando el valor de alfa es superior a 0,7, según Formación continuada Diseño y validación de cuestionarios (paper facilitado) en la literatura cláscia es mayor a 0.3 pero hay debate respecto a esto."
   ]
  },
  {
   "cell_type": "markdown",
   "metadata": {},
   "source": [
    "# Liderazgo autoritario"
   ]
  },
  {
   "cell_type": "code",
   "execution_count": 26,
   "metadata": {},
   "outputs": [
    {
     "data": {
      "text/html": [
       "<dl>\n",
       "\t<dt>$Alpha</dt>\n",
       "\t\t<dd>0.757378587751416</dd>\n",
       "\t<dt>$N</dt>\n",
       "\t\t<dd>97</dd>\n",
       "</dl>\n"
      ],
      "text/latex": [
       "\\begin{description}\n",
       "\\item[\\$Alpha] 0.757378587751416\n",
       "\\item[\\$N] 97\n",
       "\\end{description}\n"
      ],
      "text/markdown": [
       "$Alpha\n",
       ":   0.757378587751416\n",
       "$N\n",
       ":   97\n",
       "\n",
       "\n"
      ],
      "text/plain": [
       "$Alpha\n",
       "[1] 0.7573786\n",
       "\n",
       "$N\n",
       "[1] 97\n"
      ]
     },
     "metadata": {},
     "output_type": "display_data"
    }
   ],
   "source": [
    "cronbach(datos[,8:17])"
   ]
  },
  {
   "cell_type": "markdown",
   "metadata": {},
   "source": [
    "# Formación minimalista"
   ]
  },
  {
   "cell_type": "code",
   "execution_count": 27,
   "metadata": {},
   "outputs": [
    {
     "data": {
      "text/html": [
       "<dl>\n",
       "\t<dt>$Alpha</dt>\n",
       "\t\t<dd>0.698466927959488</dd>\n",
       "\t<dt>$N</dt>\n",
       "\t\t<dd>99</dd>\n",
       "</dl>\n"
      ],
      "text/latex": [
       "\\begin{description}\n",
       "\\item[\\$Alpha] 0.698466927959488\n",
       "\\item[\\$N] 99\n",
       "\\end{description}\n"
      ],
      "text/markdown": [
       "$Alpha\n",
       ":   0.698466927959488\n",
       "$N\n",
       ":   99\n",
       "\n",
       "\n"
      ],
      "text/plain": [
       "$Alpha\n",
       "[1] 0.6984669\n",
       "\n",
       "$N\n",
       "[1] 99\n"
      ]
     },
     "metadata": {},
     "output_type": "display_data"
    }
   ],
   "source": [
    "cronbach(datos[,18:20])"
   ]
  },
  {
   "cell_type": "markdown",
   "metadata": {},
   "source": [
    "# Liderazgo democratico"
   ]
  },
  {
   "cell_type": "code",
   "execution_count": 28,
   "metadata": {},
   "outputs": [
    {
     "data": {
      "text/html": [
       "<dl>\n",
       "\t<dt>$Alpha</dt>\n",
       "\t\t<dd>0.923707851589252</dd>\n",
       "\t<dt>$N</dt>\n",
       "\t\t<dd>101</dd>\n",
       "</dl>\n"
      ],
      "text/latex": [
       "\\begin{description}\n",
       "\\item[\\$Alpha] 0.923707851589252\n",
       "\\item[\\$N] 101\n",
       "\\end{description}\n"
      ],
      "text/markdown": [
       "$Alpha\n",
       ":   0.923707851589252\n",
       "$N\n",
       ":   101\n",
       "\n",
       "\n"
      ],
      "text/plain": [
       "$Alpha\n",
       "[1] 0.9237079\n",
       "\n",
       "$N\n",
       "[1] 101\n"
      ]
     },
     "metadata": {},
     "output_type": "display_data"
    }
   ],
   "source": [
    "cronbach(datos[,37:42])"
   ]
  },
  {
   "cell_type": "code",
   "execution_count": 36,
   "metadata": {},
   "outputs": [
    {
     "data": {
      "text/html": [
       "&lt;NA&gt;"
      ],
      "text/latex": [
       "<NA>"
      ],
      "text/markdown": [
       "&lt;NA&gt;"
      ],
      "text/plain": [
       "[1] NA"
      ]
     },
     "metadata": {},
     "output_type": "display_data"
    }
   ],
   "source": [
    "mean(datos$`p10 director-manda`)"
   ]
  },
  {
   "cell_type": "code",
   "execution_count": 29,
   "metadata": {},
   "outputs": [
    {
     "ename": "ERROR",
     "evalue": "Error in FUN(newX[, i], ...): 'type' (character) de argumento no válido\n",
     "output_type": "error",
     "traceback": [
      "Error in FUN(newX[, i], ...): 'type' (character) de argumento no válido\nTraceback:\n",
      "1. cronbach(datos[, 25:26])",
      "2. var(apply(items, 1, sum))",
      "3. is.data.frame(x)",
      "4. apply(items, 1, sum)"
     ]
    }
   ],
   "source": [
    "cronbach(datos[,25:26])"
   ]
  },
  {
   "cell_type": "code",
   "execution_count": 47,
   "metadata": {},
   "outputs": [
    {
     "data": {
      "text/html": [
       "<table>\n",
       "<caption>A matrix: 10 × 10 of type dbl</caption>\n",
       "<thead>\n",
       "\t<tr><th></th><th scope=col>p8 decision-autorizacion</th><th scope=col>p9 director-encargado-normas</th><th scope=col>p10 director-manda</th><th scope=col>p11 director-rol-controlador</th><th scope=col>p12 amenaza-inspectoria</th><th scope=col>p13 director-grita</th><th scope=col>p14 director-amenaza-perdida</th><th scope=col>p15 recomendaciones-estudiantes</th><th scope=col>p16 cosecuencias-paro</th><th scope=col>p17 separacion-funciones</th></tr>\n",
       "</thead>\n",
       "<tbody>\n",
       "\t<tr><th scope=row>p8 decision-autorizacion</th><td>0.49782178</td><td> 0.127920792</td><td> 0.08247525</td><td>0.09217822</td><td>0.02772277</td><td>0.06663366</td><td> 0.08277228</td><td>0.03940594</td><td>0.08841584</td><td> 0.072079208</td></tr>\n",
       "\t<tr><th scope=row>p9 director-encargado-normas</th><td>0.12792079</td><td> 0.825742574</td><td> 0.38554455</td><td>0.42207921</td><td>0.13009901</td><td>0.04405941</td><td>-0.02099010</td><td>0.08306931</td><td>0.10485149</td><td> 0.004257426</td></tr>\n",
       "\t<tr><th scope=row>p10 director-manda</th><td>0.08247525</td><td> 0.385544554</td><td> 0.72673267</td><td>0.34752475</td><td>0.23940594</td><td>0.04564356</td><td> 0.02594059</td><td>0.13158416</td><td>0.26089109</td><td>-0.025544554</td></tr>\n",
       "\t<tr><th scope=row>p11 director-rol-controlador</th><td>0.09217822</td><td> 0.422079208</td><td> 0.34752475</td><td>0.81782178</td><td>0.15227723</td><td>0.15336634</td><td> 0.15722772</td><td>0.16059406</td><td>0.17158416</td><td> 0.077920792</td></tr>\n",
       "\t<tr><th scope=row>p12 amenaza-inspectoria</th><td>0.02772277</td><td> 0.130099010</td><td> 0.23940594</td><td>0.15227723</td><td>0.86534653</td><td>0.45920792</td><td> 0.42653465</td><td>0.41574257</td><td>0.39198020</td><td> 0.169900990</td></tr>\n",
       "\t<tr><th scope=row>p13 director-grita</th><td>0.06663366</td><td> 0.044059406</td><td> 0.04564356</td><td>0.15336634</td><td>0.45920792</td><td>0.92752475</td><td> 0.71792079</td><td>0.52544554</td><td>0.40118812</td><td> 0.355940594</td></tr>\n",
       "\t<tr><th scope=row>p14 director-amenaza-perdida</th><td>0.08277228</td><td>-0.020990099</td><td> 0.02594059</td><td>0.15722772</td><td>0.42653465</td><td>0.71792079</td><td> 0.99465347</td><td>0.62257426</td><td>0.59019802</td><td> 0.480990099</td></tr>\n",
       "\t<tr><th scope=row>p15 recomendaciones-estudiantes</th><td>0.03940594</td><td> 0.083069307</td><td> 0.13158416</td><td>0.16059406</td><td>0.41574257</td><td>0.52544554</td><td> 0.62257426</td><td>0.81801980</td><td>0.45138614</td><td> 0.336930693</td></tr>\n",
       "\t<tr><th scope=row>p16 cosecuencias-paro</th><td>0.08841584</td><td> 0.104851485</td><td> 0.26089109</td><td>0.17158416</td><td>0.39198020</td><td>0.40118812</td><td> 0.59019802</td><td>0.45138614</td><td>1.13702970</td><td> 0.345148515</td></tr>\n",
       "\t<tr><th scope=row>p17 separacion-funciones</th><td>0.07207921</td><td> 0.004257426</td><td>-0.02554455</td><td>0.07792079</td><td>0.16990099</td><td>0.35594059</td><td> 0.48099010</td><td>0.33693069</td><td>0.34514851</td><td> 0.785742574</td></tr>\n",
       "</tbody>\n",
       "</table>\n"
      ],
      "text/latex": [
       "A matrix: 10 × 10 of type dbl\n",
       "\\begin{tabular}{r|llllllllll}\n",
       "  & p8 decision-autorizacion & p9 director-encargado-normas & p10 director-manda & p11 director-rol-controlador & p12 amenaza-inspectoria & p13 director-grita & p14 director-amenaza-perdida & p15 recomendaciones-estudiantes & p16 cosecuencias-paro & p17 separacion-funciones\\\\\n",
       "\\hline\n",
       "\tp8 decision-autorizacion & 0.49782178 &  0.127920792 &  0.08247525 & 0.09217822 & 0.02772277 & 0.06663366 &  0.08277228 & 0.03940594 & 0.08841584 &  0.072079208\\\\\n",
       "\tp9 director-encargado-normas & 0.12792079 &  0.825742574 &  0.38554455 & 0.42207921 & 0.13009901 & 0.04405941 & -0.02099010 & 0.08306931 & 0.10485149 &  0.004257426\\\\\n",
       "\tp10 director-manda & 0.08247525 &  0.385544554 &  0.72673267 & 0.34752475 & 0.23940594 & 0.04564356 &  0.02594059 & 0.13158416 & 0.26089109 & -0.025544554\\\\\n",
       "\tp11 director-rol-controlador & 0.09217822 &  0.422079208 &  0.34752475 & 0.81782178 & 0.15227723 & 0.15336634 &  0.15722772 & 0.16059406 & 0.17158416 &  0.077920792\\\\\n",
       "\tp12 amenaza-inspectoria & 0.02772277 &  0.130099010 &  0.23940594 & 0.15227723 & 0.86534653 & 0.45920792 &  0.42653465 & 0.41574257 & 0.39198020 &  0.169900990\\\\\n",
       "\tp13 director-grita & 0.06663366 &  0.044059406 &  0.04564356 & 0.15336634 & 0.45920792 & 0.92752475 &  0.71792079 & 0.52544554 & 0.40118812 &  0.355940594\\\\\n",
       "\tp14 director-amenaza-perdida & 0.08277228 & -0.020990099 &  0.02594059 & 0.15722772 & 0.42653465 & 0.71792079 &  0.99465347 & 0.62257426 & 0.59019802 &  0.480990099\\\\\n",
       "\tp15 recomendaciones-estudiantes & 0.03940594 &  0.083069307 &  0.13158416 & 0.16059406 & 0.41574257 & 0.52544554 &  0.62257426 & 0.81801980 & 0.45138614 &  0.336930693\\\\\n",
       "\tp16 cosecuencias-paro & 0.08841584 &  0.104851485 &  0.26089109 & 0.17158416 & 0.39198020 & 0.40118812 &  0.59019802 & 0.45138614 & 1.13702970 &  0.345148515\\\\\n",
       "\tp17 separacion-funciones & 0.07207921 &  0.004257426 & -0.02554455 & 0.07792079 & 0.16990099 & 0.35594059 &  0.48099010 & 0.33693069 & 0.34514851 &  0.785742574\\\\\n",
       "\\end{tabular}\n"
      ],
      "text/markdown": [
       "\n",
       "A matrix: 10 × 10 of type dbl\n",
       "\n",
       "| <!--/--> | p8 decision-autorizacion | p9 director-encargado-normas | p10 director-manda | p11 director-rol-controlador | p12 amenaza-inspectoria | p13 director-grita | p14 director-amenaza-perdida | p15 recomendaciones-estudiantes | p16 cosecuencias-paro | p17 separacion-funciones |\n",
       "|---|---|---|---|---|---|---|---|---|---|---|\n",
       "| p8 decision-autorizacion | 0.49782178 |  0.127920792 |  0.08247525 | 0.09217822 | 0.02772277 | 0.06663366 |  0.08277228 | 0.03940594 | 0.08841584 |  0.072079208 |\n",
       "| p9 director-encargado-normas | 0.12792079 |  0.825742574 |  0.38554455 | 0.42207921 | 0.13009901 | 0.04405941 | -0.02099010 | 0.08306931 | 0.10485149 |  0.004257426 |\n",
       "| p10 director-manda | 0.08247525 |  0.385544554 |  0.72673267 | 0.34752475 | 0.23940594 | 0.04564356 |  0.02594059 | 0.13158416 | 0.26089109 | -0.025544554 |\n",
       "| p11 director-rol-controlador | 0.09217822 |  0.422079208 |  0.34752475 | 0.81782178 | 0.15227723 | 0.15336634 |  0.15722772 | 0.16059406 | 0.17158416 |  0.077920792 |\n",
       "| p12 amenaza-inspectoria | 0.02772277 |  0.130099010 |  0.23940594 | 0.15227723 | 0.86534653 | 0.45920792 |  0.42653465 | 0.41574257 | 0.39198020 |  0.169900990 |\n",
       "| p13 director-grita | 0.06663366 |  0.044059406 |  0.04564356 | 0.15336634 | 0.45920792 | 0.92752475 |  0.71792079 | 0.52544554 | 0.40118812 |  0.355940594 |\n",
       "| p14 director-amenaza-perdida | 0.08277228 | -0.020990099 |  0.02594059 | 0.15722772 | 0.42653465 | 0.71792079 |  0.99465347 | 0.62257426 | 0.59019802 |  0.480990099 |\n",
       "| p15 recomendaciones-estudiantes | 0.03940594 |  0.083069307 |  0.13158416 | 0.16059406 | 0.41574257 | 0.52544554 |  0.62257426 | 0.81801980 | 0.45138614 |  0.336930693 |\n",
       "| p16 cosecuencias-paro | 0.08841584 |  0.104851485 |  0.26089109 | 0.17158416 | 0.39198020 | 0.40118812 |  0.59019802 | 0.45138614 | 1.13702970 |  0.345148515 |\n",
       "| p17 separacion-funciones | 0.07207921 |  0.004257426 | -0.02554455 | 0.07792079 | 0.16990099 | 0.35594059 |  0.48099010 | 0.33693069 | 0.34514851 |  0.785742574 |\n",
       "\n"
      ],
      "text/plain": [
       "                                p8 decision-autorizacion\n",
       "p8 decision-autorizacion        0.49782178              \n",
       "p9 director-encargado-normas    0.12792079              \n",
       "p10 director-manda              0.08247525              \n",
       "p11 director-rol-controlador    0.09217822              \n",
       "p12 amenaza-inspectoria         0.02772277              \n",
       "p13 director-grita              0.06663366              \n",
       "p14 director-amenaza-perdida    0.08277228              \n",
       "p15 recomendaciones-estudiantes 0.03940594              \n",
       "p16 cosecuencias-paro           0.08841584              \n",
       "p17 separacion-funciones        0.07207921              \n",
       "                                p9 director-encargado-normas p10 director-manda\n",
       "p8 decision-autorizacion         0.127920792                  0.08247525       \n",
       "p9 director-encargado-normas     0.825742574                  0.38554455       \n",
       "p10 director-manda               0.385544554                  0.72673267       \n",
       "p11 director-rol-controlador     0.422079208                  0.34752475       \n",
       "p12 amenaza-inspectoria          0.130099010                  0.23940594       \n",
       "p13 director-grita               0.044059406                  0.04564356       \n",
       "p14 director-amenaza-perdida    -0.020990099                  0.02594059       \n",
       "p15 recomendaciones-estudiantes  0.083069307                  0.13158416       \n",
       "p16 cosecuencias-paro            0.104851485                  0.26089109       \n",
       "p17 separacion-funciones         0.004257426                 -0.02554455       \n",
       "                                p11 director-rol-controlador\n",
       "p8 decision-autorizacion        0.09217822                  \n",
       "p9 director-encargado-normas    0.42207921                  \n",
       "p10 director-manda              0.34752475                  \n",
       "p11 director-rol-controlador    0.81782178                  \n",
       "p12 amenaza-inspectoria         0.15227723                  \n",
       "p13 director-grita              0.15336634                  \n",
       "p14 director-amenaza-perdida    0.15722772                  \n",
       "p15 recomendaciones-estudiantes 0.16059406                  \n",
       "p16 cosecuencias-paro           0.17158416                  \n",
       "p17 separacion-funciones        0.07792079                  \n",
       "                                p12 amenaza-inspectoria p13 director-grita\n",
       "p8 decision-autorizacion        0.02772277              0.06663366        \n",
       "p9 director-encargado-normas    0.13009901              0.04405941        \n",
       "p10 director-manda              0.23940594              0.04564356        \n",
       "p11 director-rol-controlador    0.15227723              0.15336634        \n",
       "p12 amenaza-inspectoria         0.86534653              0.45920792        \n",
       "p13 director-grita              0.45920792              0.92752475        \n",
       "p14 director-amenaza-perdida    0.42653465              0.71792079        \n",
       "p15 recomendaciones-estudiantes 0.41574257              0.52544554        \n",
       "p16 cosecuencias-paro           0.39198020              0.40118812        \n",
       "p17 separacion-funciones        0.16990099              0.35594059        \n",
       "                                p14 director-amenaza-perdida\n",
       "p8 decision-autorizacion         0.08277228                 \n",
       "p9 director-encargado-normas    -0.02099010                 \n",
       "p10 director-manda               0.02594059                 \n",
       "p11 director-rol-controlador     0.15722772                 \n",
       "p12 amenaza-inspectoria          0.42653465                 \n",
       "p13 director-grita               0.71792079                 \n",
       "p14 director-amenaza-perdida     0.99465347                 \n",
       "p15 recomendaciones-estudiantes  0.62257426                 \n",
       "p16 cosecuencias-paro            0.59019802                 \n",
       "p17 separacion-funciones         0.48099010                 \n",
       "                                p15 recomendaciones-estudiantes\n",
       "p8 decision-autorizacion        0.03940594                     \n",
       "p9 director-encargado-normas    0.08306931                     \n",
       "p10 director-manda              0.13158416                     \n",
       "p11 director-rol-controlador    0.16059406                     \n",
       "p12 amenaza-inspectoria         0.41574257                     \n",
       "p13 director-grita              0.52544554                     \n",
       "p14 director-amenaza-perdida    0.62257426                     \n",
       "p15 recomendaciones-estudiantes 0.81801980                     \n",
       "p16 cosecuencias-paro           0.45138614                     \n",
       "p17 separacion-funciones        0.33693069                     \n",
       "                                p16 cosecuencias-paro p17 separacion-funciones\n",
       "p8 decision-autorizacion        0.08841584             0.072079208            \n",
       "p9 director-encargado-normas    0.10485149             0.004257426            \n",
       "p10 director-manda              0.26089109            -0.025544554            \n",
       "p11 director-rol-controlador    0.17158416             0.077920792            \n",
       "p12 amenaza-inspectoria         0.39198020             0.169900990            \n",
       "p13 director-grita              0.40118812             0.355940594            \n",
       "p14 director-amenaza-perdida    0.59019802             0.480990099            \n",
       "p15 recomendaciones-estudiantes 0.45138614             0.336930693            \n",
       "p16 cosecuencias-paro           1.13702970             0.345148515            \n",
       "p17 separacion-funciones        0.34514851             0.785742574            "
      ]
     },
     "metadata": {},
     "output_type": "display_data"
    }
   ],
   "source": [
    "cov(my_data)"
   ]
  },
  {
   "cell_type": "code",
   "execution_count": 17,
   "metadata": {},
   "outputs": [],
   "source": [
    "my_data <- datos[,8:20 ]"
   ]
  },
  {
   "cell_type": "code",
   "execution_count": 18,
   "metadata": {},
   "outputs": [
    {
     "data": {
      "text/html": [
       "<table>\n",
       "<caption>A tibble: 6 × 13</caption>\n",
       "<thead>\n",
       "\t<tr><th scope=col>p8 decision-autorizacion</th><th scope=col>p9 director-encargado-normas</th><th scope=col>p10 director-manda</th><th scope=col>p11 director-rol-controlador</th><th scope=col>p12 amenaza-inspectoria</th><th scope=col>p13 director-grita</th><th scope=col>p14 director-amenaza-perdida</th><th scope=col>p15 recomendaciones-estudiantes</th><th scope=col>p16 cosecuencias-paro</th><th scope=col>p17 separacion-funciones</th><th scope=col>p18 enseñanza-patriotismo</th><th scope=col>p19 formación-sala</th><th scope=col>p20 ponerse-pie</th></tr>\n",
       "\t<tr><th scope=col>&lt;dbl&gt;</th><th scope=col>&lt;dbl&gt;</th><th scope=col>&lt;dbl&gt;</th><th scope=col>&lt;dbl&gt;</th><th scope=col>&lt;dbl&gt;</th><th scope=col>&lt;dbl&gt;</th><th scope=col>&lt;dbl&gt;</th><th scope=col>&lt;dbl&gt;</th><th scope=col>&lt;dbl&gt;</th><th scope=col>&lt;dbl&gt;</th><th scope=col>&lt;dbl&gt;</th><th scope=col>&lt;dbl&gt;</th><th scope=col>&lt;dbl&gt;</th></tr>\n",
       "</thead>\n",
       "<tbody>\n",
       "\t<tr><td>3</td><td>2</td><td>3</td><td>2</td><td>2</td><td>3</td><td>2</td><td>3</td><td>2</td><td>2</td><td>4</td><td>4</td><td>4</td></tr>\n",
       "\t<tr><td>4</td><td>4</td><td>2</td><td>4</td><td>1</td><td>1</td><td>2</td><td>2</td><td>1</td><td>2</td><td>2</td><td>4</td><td>3</td></tr>\n",
       "\t<tr><td>3</td><td>2</td><td>3</td><td>3</td><td>3</td><td>2</td><td>1</td><td>1</td><td>1</td><td>1</td><td>2</td><td>3</td><td>2</td></tr>\n",
       "\t<tr><td>4</td><td>3</td><td>4</td><td>3</td><td>1</td><td>4</td><td>4</td><td>2</td><td>3</td><td>2</td><td>1</td><td>3</td><td>4</td></tr>\n",
       "\t<tr><td>2</td><td>2</td><td>2</td><td>2</td><td>3</td><td>2</td><td>2</td><td>2</td><td>2</td><td>2</td><td>2</td><td>3</td><td>3</td></tr>\n",
       "\t<tr><td>4</td><td>4</td><td>4</td><td>4</td><td>3</td><td>1</td><td>1</td><td>1</td><td>1</td><td>1</td><td>4</td><td>4</td><td>3</td></tr>\n",
       "</tbody>\n",
       "</table>\n"
      ],
      "text/latex": [
       "A tibble: 6 × 13\n",
       "\\begin{tabular}{lllllllllllll}\n",
       " p8 decision-autorizacion & p9 director-encargado-normas & p10 director-manda & p11 director-rol-controlador & p12 amenaza-inspectoria & p13 director-grita & p14 director-amenaza-perdida & p15 recomendaciones-estudiantes & p16 cosecuencias-paro & p17 separacion-funciones & p18 enseñanza-patriotismo & p19 formación-sala & p20 ponerse-pie\\\\\n",
       " <dbl> & <dbl> & <dbl> & <dbl> & <dbl> & <dbl> & <dbl> & <dbl> & <dbl> & <dbl> & <dbl> & <dbl> & <dbl>\\\\\n",
       "\\hline\n",
       "\t 3 & 2 & 3 & 2 & 2 & 3 & 2 & 3 & 2 & 2 & 4 & 4 & 4\\\\\n",
       "\t 4 & 4 & 2 & 4 & 1 & 1 & 2 & 2 & 1 & 2 & 2 & 4 & 3\\\\\n",
       "\t 3 & 2 & 3 & 3 & 3 & 2 & 1 & 1 & 1 & 1 & 2 & 3 & 2\\\\\n",
       "\t 4 & 3 & 4 & 3 & 1 & 4 & 4 & 2 & 3 & 2 & 1 & 3 & 4\\\\\n",
       "\t 2 & 2 & 2 & 2 & 3 & 2 & 2 & 2 & 2 & 2 & 2 & 3 & 3\\\\\n",
       "\t 4 & 4 & 4 & 4 & 3 & 1 & 1 & 1 & 1 & 1 & 4 & 4 & 3\\\\\n",
       "\\end{tabular}\n"
      ],
      "text/markdown": [
       "\n",
       "A tibble: 6 × 13\n",
       "\n",
       "| p8 decision-autorizacion &lt;dbl&gt; | p9 director-encargado-normas &lt;dbl&gt; | p10 director-manda &lt;dbl&gt; | p11 director-rol-controlador &lt;dbl&gt; | p12 amenaza-inspectoria &lt;dbl&gt; | p13 director-grita &lt;dbl&gt; | p14 director-amenaza-perdida &lt;dbl&gt; | p15 recomendaciones-estudiantes &lt;dbl&gt; | p16 cosecuencias-paro &lt;dbl&gt; | p17 separacion-funciones &lt;dbl&gt; | p18 enseñanza-patriotismo &lt;dbl&gt; | p19 formación-sala &lt;dbl&gt; | p20 ponerse-pie &lt;dbl&gt; |\n",
       "|---|---|---|---|---|---|---|---|---|---|---|---|---|\n",
       "| 3 | 2 | 3 | 2 | 2 | 3 | 2 | 3 | 2 | 2 | 4 | 4 | 4 |\n",
       "| 4 | 4 | 2 | 4 | 1 | 1 | 2 | 2 | 1 | 2 | 2 | 4 | 3 |\n",
       "| 3 | 2 | 3 | 3 | 3 | 2 | 1 | 1 | 1 | 1 | 2 | 3 | 2 |\n",
       "| 4 | 3 | 4 | 3 | 1 | 4 | 4 | 2 | 3 | 2 | 1 | 3 | 4 |\n",
       "| 2 | 2 | 2 | 2 | 3 | 2 | 2 | 2 | 2 | 2 | 2 | 3 | 3 |\n",
       "| 4 | 4 | 4 | 4 | 3 | 1 | 1 | 1 | 1 | 1 | 4 | 4 | 3 |\n",
       "\n"
      ],
      "text/plain": [
       "  p8 decision-autorizacion p9 director-encargado-normas p10 director-manda\n",
       "1 3                        2                            3                 \n",
       "2 4                        4                            2                 \n",
       "3 3                        2                            3                 \n",
       "4 4                        3                            4                 \n",
       "5 2                        2                            2                 \n",
       "6 4                        4                            4                 \n",
       "  p11 director-rol-controlador p12 amenaza-inspectoria p13 director-grita\n",
       "1 2                            2                       3                 \n",
       "2 4                            1                       1                 \n",
       "3 3                            3                       2                 \n",
       "4 3                            1                       4                 \n",
       "5 2                            3                       2                 \n",
       "6 4                            3                       1                 \n",
       "  p14 director-amenaza-perdida p15 recomendaciones-estudiantes\n",
       "1 2                            3                              \n",
       "2 2                            2                              \n",
       "3 1                            1                              \n",
       "4 4                            2                              \n",
       "5 2                            2                              \n",
       "6 1                            1                              \n",
       "  p16 cosecuencias-paro p17 separacion-funciones p18 enseñanza-patriotismo\n",
       "1 2                     2                        4                        \n",
       "2 1                     2                        2                        \n",
       "3 1                     1                        2                        \n",
       "4 3                     2                        1                        \n",
       "5 2                     2                        2                        \n",
       "6 1                     1                        4                        \n",
       "  p19 formación-sala p20 ponerse-pie\n",
       "1 4                  4              \n",
       "2 4                  3              \n",
       "3 3                  2              \n",
       "4 3                  4              \n",
       "5 3                  3              \n",
       "6 4                  3              "
      ]
     },
     "metadata": {},
     "output_type": "display_data"
    }
   ],
   "source": [
    "my_data[is.na(my_data)] <- 1\n",
    "head(my_data)"
   ]
  },
  {
   "cell_type": "code",
   "execution_count": 15,
   "metadata": {},
   "outputs": [],
   "source": [
    "library(psych)\n",
    "library(abind)\n",
    "library(foreach)\n",
    "library(multicon)"
   ]
  },
  {
   "cell_type": "code",
   "execution_count": 16,
   "metadata": {},
   "outputs": [
    {
     "data": {
      "text/html": [
       "\n",
       "<table width=\"100%\" summary=\"page for MTMM {multicon}\"><tr><td>MTMM {multicon}</td><td style=\"text-align: right;\">R Documentation</td></tr></table>\n",
       "\n",
       "<h2>\n",
       "Multi Trait Multi Method Matrix\n",
       "</h2>\n",
       "\n",
       "<h3>Description</h3>\n",
       "\n",
       "<p>Returns the summary results from a multi-trait multi-method correlation matrix including the average correlations for Same Trait-Different Method, Same Method-Different Trait, and  Different Method-Different Trait.\n",
       "</p>\n",
       "\n",
       "\n",
       "<h3>Usage</h3>\n",
       "\n",
       "<pre>\n",
       "MTMM(x, traits, methods)\n",
       "</pre>\n",
       "\n",
       "\n",
       "<h3>Arguments</h3>\n",
       "\n",
       "<table summary=\"R argblock\">\n",
       "<tr valign=\"top\"><td><code>x</code></td>\n",
       "<td>\n",
       "\n",
       "<p>A data.frame organized such that each column represents the ratings for each Trait-Method combination. The columns must be ordered in sets such that the first set is the first trait rated by each method, followed by the second trait rated by each method (in the same order), and so on. \n",
       "</p>\n",
       "</td></tr>\n",
       "<tr valign=\"top\"><td><code>traits</code></td>\n",
       "<td>\n",
       "\n",
       "<p>An integer indicating the total number of different traits rated.\n",
       "</p>\n",
       "</td></tr>\n",
       "<tr valign=\"top\"><td><code>methods</code></td>\n",
       "<td>\n",
       "\n",
       "<p>An integer indicating the total number of methods used.\n",
       "</p>\n",
       "</td></tr>\n",
       "</table>\n",
       "\n",
       "\n",
       "<h3>Details</h3>\n",
       "\n",
       "<p>Multi-trait Multi-method matrices are often used examine the validity of the construct(s) under investigation. That is, if different methods agree about a target's standing on a trait, it is more likely that the trait itself is valid. However, such agreement must be compared with agreement about different targets using the same method (method effects), which must in turn be compared with agreement about different targets using different methods (i.e., the general similarity of targets). This function returns all three such values: The average agreement about targets on the given traits using different methods, the average agreement about different targets using the same methods (method effects), and the average agreement about different targets using different methods (baseline agreement). \n",
       "</p>\n",
       "\n",
       "\n",
       "<h3>Value</h3>\n",
       "\n",
       "\n",
       "\n",
       "<table summary=\"R valueblock\">\n",
       "<tr valign=\"top\"><td><code>SameTrait </code></td>\n",
       "<td>\n",
       "<p>The average correlation for the Same Traits rated by Different Methods</p>\n",
       "</td></tr>\n",
       "<tr valign=\"top\"><td><code>SameMethod </code></td>\n",
       "<td>\n",
       "<p>The average correlation for the Same Methods used to rate the Different Traits</p>\n",
       "</td></tr>\n",
       "<tr valign=\"top\"><td><code>DiffDiff</code></td>\n",
       "<td>\n",
       "<p>The average correlation for the Different Traits rated by Different Methods</p>\n",
       "</td></tr>\n",
       "</table>\n",
       "\n",
       "\n",
       "\n",
       "<h3>Author(s)</h3>\n",
       "\n",
       "<p>Ryne A. Sherman\n",
       "</p>\n",
       "\n",
       "\n",
       "<h3>See Also</h3>\n",
       "\n",
       "<p><code>inner.outer</code>\n",
       "</p>\n",
       "\n",
       "\n",
       "<h3>Examples</h3>\n",
       "\n",
       "<pre>\n",
       "\t# We can generate some random data by first creating a population correlation matrix\n",
       "sig &lt;- matrix(c(1.00,.4,.6,.05,.1,-.05,.4,1.00,.5,.08,\n",
       "\t-.02,.03,.6,.5,1.00,.09,.1,-.07,.05,.08,.09,1.00,.6,.7,.1,-.02,.1,.6,\n",
       "\t1.00,.5,-.05,.03,-.07,.7,.5,1.00), ncol=6, byrow=TRUE)\n",
       "sig\n",
       "library(mvtnorm)\n",
       "\t# Now create random data based on this population matrix\n",
       "d &lt;- rmvnorm(100, sigma=sig)\n",
       "\t#Now use MTMM on this data.frame indicating that there are 2 traits and 3 methods. \n",
       "MTMM(d, 2, 3)\n",
       "</pre>\n",
       "\n",
       "<hr /><div style=\"text-align: center;\">[Package <em>multicon</em> version 1.6 ]</div>"
      ],
      "text/latex": [
       "\\inputencoding{utf8}\n",
       "\\HeaderA{MTMM}{Multi Trait Multi Method Matrix}{MTMM}\n",
       "\\keyword{multi trait multi method matrix}{MTMM}\n",
       "%\n",
       "\\begin{Description}\\relax\n",
       "Returns the summary results from a multi-trait multi-method correlation matrix including the average correlations for Same Trait-Different Method, Same Method-Different Trait, and  Different Method-Different Trait.\n",
       "\\end{Description}\n",
       "%\n",
       "\\begin{Usage}\n",
       "\\begin{verbatim}\n",
       "MTMM(x, traits, methods)\n",
       "\\end{verbatim}\n",
       "\\end{Usage}\n",
       "%\n",
       "\\begin{Arguments}\n",
       "\\begin{ldescription}\n",
       "\\item[\\code{x}] \n",
       "A data.frame organized such that each column represents the ratings for each Trait-Method combination. The columns must be ordered in sets such that the first set is the first trait rated by each method, followed by the second trait rated by each method (in the same order), and so on. \n",
       "\n",
       "\\item[\\code{traits}] \n",
       "An integer indicating the total number of different traits rated.\n",
       "\n",
       "\\item[\\code{methods}] \n",
       "An integer indicating the total number of methods used.\n",
       "\n",
       "\\end{ldescription}\n",
       "\\end{Arguments}\n",
       "%\n",
       "\\begin{Details}\\relax\n",
       "Multi-trait Multi-method matrices are often used examine the validity of the construct(s) under investigation. That is, if different methods agree about a target's standing on a trait, it is more likely that the trait itself is valid. However, such agreement must be compared with agreement about different targets using the same method (method effects), which must in turn be compared with agreement about different targets using different methods (i.e., the general similarity of targets). This function returns all three such values: The average agreement about targets on the given traits using different methods, the average agreement about different targets using the same methods (method effects), and the average agreement about different targets using different methods (baseline agreement). \n",
       "\\end{Details}\n",
       "%\n",
       "\\begin{Value}\n",
       "\n",
       "\n",
       "\\begin{ldescription}\n",
       "\\item[\\code{SameTrait }] The average correlation for the Same Traits rated by Different Methods\n",
       "\\item[\\code{SameMethod }] The average correlation for the Same Methods used to rate the Different Traits\n",
       "\\item[\\code{DiffDiff}] The average correlation for the Different Traits rated by Different Methods\n",
       "\\end{ldescription}\n",
       "\n",
       "\\end{Value}\n",
       "%\n",
       "\\begin{Author}\\relax\n",
       "Ryne A. Sherman\n",
       "\\end{Author}\n",
       "%\n",
       "\\begin{SeeAlso}\\relax\n",
       "\\code{\\LinkA{inner.outer}{inner.outer}}\n",
       "\\end{SeeAlso}\n",
       "%\n",
       "\\begin{Examples}\n",
       "\\begin{ExampleCode}\n",
       "\t# We can generate some random data by first creating a population correlation matrix\n",
       "sig <- matrix(c(1.00,.4,.6,.05,.1,-.05,.4,1.00,.5,.08,\n",
       "\t-.02,.03,.6,.5,1.00,.09,.1,-.07,.05,.08,.09,1.00,.6,.7,.1,-.02,.1,.6,\n",
       "\t1.00,.5,-.05,.03,-.07,.7,.5,1.00), ncol=6, byrow=TRUE)\n",
       "sig\n",
       "library(mvtnorm)\n",
       "\t# Now create random data based on this population matrix\n",
       "d <- rmvnorm(100, sigma=sig)\n",
       "\t#Now use MTMM on this data.frame indicating that there are 2 traits and 3 methods. \n",
       "MTMM(d, 2, 3)\n",
       "\\end{ExampleCode}\n",
       "\\end{Examples}"
      ],
      "text/plain": [
       "MTMM                 package:multicon                  R Documentation\n",
       "\n",
       "_\bM_\bu_\bl_\bt_\bi _\bT_\br_\ba_\bi_\bt _\bM_\bu_\bl_\bt_\bi _\bM_\be_\bt_\bh_\bo_\bd _\bM_\ba_\bt_\br_\bi_\bx\n",
       "\n",
       "_\bD_\be_\bs_\bc_\br_\bi_\bp_\bt_\bi_\bo_\bn:\n",
       "\n",
       "     Returns the summary results from a multi-trait multi-method\n",
       "     correlation matrix including the average correlations for Same\n",
       "     Trait-Different Method, Same Method-Different Trait, and Different\n",
       "     Method-Different Trait.\n",
       "\n",
       "_\bU_\bs_\ba_\bg_\be:\n",
       "\n",
       "     MTMM(x, traits, methods)\n",
       "     \n",
       "_\bA_\br_\bg_\bu_\bm_\be_\bn_\bt_\bs:\n",
       "\n",
       "       x: A data.frame organized such that each column represents the\n",
       "          ratings for each Trait-Method combination. The columns must\n",
       "          be ordered in sets such that the first set is the first trait\n",
       "          rated by each method, followed by the second trait rated by\n",
       "          each method (in the same order), and so on.\n",
       "\n",
       "  traits: An integer indicating the total number of different traits\n",
       "          rated.\n",
       "\n",
       " methods: An integer indicating the total number of methods used.\n",
       "\n",
       "_\bD_\be_\bt_\ba_\bi_\bl_\bs:\n",
       "\n",
       "     Multi-trait Multi-method matrices are often used examine the\n",
       "     validity of the construct(s) under investigation. That is, if\n",
       "     different methods agree about a target's standing on a trait, it\n",
       "     is more likely that the trait itself is valid. However, such\n",
       "     agreement must be compared with agreement about different targets\n",
       "     using the same method (method effects), which must in turn be\n",
       "     compared with agreement about different targets using different\n",
       "     methods (i.e., the general similarity of targets). This function\n",
       "     returns all three such values: The average agreement about targets\n",
       "     on the given traits using different methods, the average agreement\n",
       "     about different targets using the same methods (method effects),\n",
       "     and the average agreement about different targets using different\n",
       "     methods (baseline agreement).\n",
       "\n",
       "_\bV_\ba_\bl_\bu_\be:\n",
       "\n",
       "SameTrait : The average correlation for the Same Traits rated by\n",
       "          Different Methods\n",
       "\n",
       "SameMethod : The average correlation for the Same Methods used to rate\n",
       "          the Different Traits\n",
       "\n",
       "DiffDiff: The average correlation for the Different Traits rated by\n",
       "          Different Methods\n",
       "\n",
       "_\bA_\bu_\bt_\bh_\bo_\br(_\bs):\n",
       "\n",
       "     Ryne A. Sherman\n",
       "\n",
       "_\bS_\be_\be _\bA_\bl_\bs_\bo:\n",
       "\n",
       "     ‘inner.outer’\n",
       "\n",
       "_\bE_\bx_\ba_\bm_\bp_\bl_\be_\bs:\n",
       "\n",
       "             # We can generate some random data by first creating a population correlation matrix\n",
       "     sig <- matrix(c(1.00,.4,.6,.05,.1,-.05,.4,1.00,.5,.08,\n",
       "             -.02,.03,.6,.5,1.00,.09,.1,-.07,.05,.08,.09,1.00,.6,.7,.1,-.02,.1,.6,\n",
       "             1.00,.5,-.05,.03,-.07,.7,.5,1.00), ncol=6, byrow=TRUE)\n",
       "     sig\n",
       "     library(mvtnorm)\n",
       "             # Now create random data based on this population matrix\n",
       "     d <- rmvnorm(100, sigma=sig)\n",
       "             #Now use MTMM on this data.frame indicating that there are 2 traits and 3 methods. \n",
       "     MTMM(d, 2, 3)\n",
       "     "
      ]
     },
     "metadata": {},
     "output_type": "display_data"
    }
   ],
   "source": [
    "help(MTMM)"
   ]
  },
  {
   "cell_type": "code",
   "execution_count": null,
   "metadata": {},
   "outputs": [],
   "source": []
  },
  {
   "cell_type": "markdown",
   "metadata": {},
   "source": [
    "# Validez\n",
    "\n",
    "### Validez de constructo. Evalúa el grado en que el instrumento refleja la teoría del fenómeno o del concepto que mide. La validez de construcción garantiza que las medidas que resultan de las respuestas del cuestionario pueden ser consideradas y utilizadas como medición del fenómeno que queremos medir.\n",
    "### Puede ser calculada por diversos métodos, pero los más frecuentes son el análisis factorial y la matrizmultirrasgo-multimétodo."
   ]
  },
  {
   "cell_type": "code",
   "execution_count": 22,
   "metadata": {},
   "outputs": [
    {
     "data": {
      "text/html": [
       "<table>\n",
       "<caption>A matrix: 1 × 3 of type dbl</caption>\n",
       "<thead>\n",
       "\t<tr><th></th><th scope=col>SameTrait</th><th scope=col>SameMethod</th><th scope=col>DiffDiff</th></tr>\n",
       "</thead>\n",
       "<tbody>\n",
       "\t<tr><th scope=row>Results</th><td>NaN</td><td>NaN</td><td>0.154776</td></tr>\n",
       "</tbody>\n",
       "</table>\n"
      ],
      "text/latex": [
       "A matrix: 1 × 3 of type dbl\n",
       "\\begin{tabular}{r|lll}\n",
       "  & SameTrait & SameMethod & DiffDiff\\\\\n",
       "\\hline\n",
       "\tResults & NaN & NaN & 0.154776\\\\\n",
       "\\end{tabular}\n"
      ],
      "text/markdown": [
       "\n",
       "A matrix: 1 × 3 of type dbl\n",
       "\n",
       "| <!--/--> | SameTrait | SameMethod | DiffDiff |\n",
       "|---|---|---|---|\n",
       "| Results | NaN | NaN | 0.154776 |\n",
       "\n"
      ],
      "text/plain": [
       "        SameTrait SameMethod DiffDiff\n",
       "Results NaN       NaN        0.154776"
      ]
     },
     "metadata": {},
     "output_type": "display_data"
    }
   ],
   "source": [
    "MTMM(my_data, 1 , 1)"
   ]
  },
  {
   "cell_type": "code",
   "execution_count": 70,
   "metadata": {},
   "outputs": [],
   "source": [
    "help(inner.outer)"
   ]
  },
  {
   "cell_type": "code",
   "execution_count": null,
   "metadata": {},
   "outputs": [],
   "source": []
  },
  {
   "cell_type": "code",
   "execution_count": null,
   "metadata": {},
   "outputs": [],
   "source": []
  }
 ],
 "metadata": {
  "kernelspec": {
   "display_name": "R",
   "language": "R",
   "name": "ir"
  },
  "language_info": {
   "codemirror_mode": "r",
   "file_extension": ".r",
   "mimetype": "text/x-r-source",
   "name": "R",
   "pygments_lexer": "r",
   "version": "3.5.2"
  }
 },
 "nbformat": 4,
 "nbformat_minor": 4
}
